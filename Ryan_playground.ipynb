{
 "cells": [
  {
   "cell_type": "markdown",
   "metadata": {},
   "source": [
    "### Local\n"
   ]
  },
  {
   "cell_type": "code",
   "execution_count": 1,
   "metadata": {},
   "outputs": [],
   "source": [
    "import numpy as np\n",
    "import pandas as pd\n",
    "import os\n",
    "import sys\n",
    "\n",
    "import matplotlib.pyplot as plt\n",
    "\n",
    "import pyspark.sql.functions as F\n",
    "import pyspark.sql.types as T\n",
    "\n",
    "os.environ[\"PYSPARK_PYTHON\"] = sys.executable\n",
    "os.environ[\"PYSPARK_DRIVER_PYTHON\"] = sys.executable\n",
    "\n",
    "from pyspark.sql import SparkSession\n",
    "spark = SparkSession.builder.getOrCreate()"
   ]
  },
  {
   "cell_type": "markdown",
   "metadata": {},
   "source": [
    "### Load Parquet files"
   ]
  },
  {
   "cell_type": "code",
   "execution_count": 2,
   "metadata": {},
   "outputs": [],
   "source": [
    "# load parquet files\n",
    "parquet_path = 'G:\\\\_data'\n",
    "df = spark.read.parquet(parquet_path)"
   ]
  },
  {
   "cell_type": "code",
   "execution_count": 3,
   "metadata": {},
   "outputs": [
    {
     "data": {
      "text/plain": [
       "264630487"
      ]
     },
     "execution_count": 3,
     "metadata": {},
     "output_type": "execute_result"
    }
   ],
   "source": [
    "# count rows\n",
    "df.count()"
   ]
  },
  {
   "cell_type": "code",
   "execution_count": 4,
   "metadata": {},
   "outputs": [
    {
     "name": "stdout",
     "output_type": "stream",
     "text": [
      "root\n",
      " |-- location_id: long (nullable = true)\n",
      " |-- sensors_id: long (nullable = true)\n",
      " |-- location: string (nullable = true)\n",
      " |-- datetime: string (nullable = true)\n",
      " |-- lat: double (nullable = true)\n",
      " |-- lat.1: double (nullable = true)\n",
      " |-- lon: double (nullable = true)\n",
      " |-- lon.1: double (nullable = true)\n",
      " |-- parameter: string (nullable = true)\n",
      " |-- units: string (nullable = true)\n",
      " |-- value: double (nullable = true)\n",
      "\n"
     ]
    }
   ],
   "source": [
    "# show schema\n",
    "df.printSchema()"
   ]
  },
  {
   "cell_type": "markdown",
   "metadata": {},
   "source": [
    "### Drop unused columns\n",
    "\n",
    "Some source files have errant lat.1 and lon.1 columns. They are all NULL for all rows, and can be safely dropped."
   ]
  },
  {
   "cell_type": "code",
   "execution_count": 5,
   "metadata": {},
   "outputs": [],
   "source": [
    "# drop lat.1 and lon.1\n",
    "df = df.drop('lat.1', 'lon.1')"
   ]
  },
  {
   "cell_type": "markdown",
   "metadata": {},
   "source": [
    "#### Drop NULLs"
   ]
  },
  {
   "cell_type": "code",
   "execution_count": 6,
   "metadata": {},
   "outputs": [],
   "source": [
    "# remove nulls from value column\n",
    "df = df.na.drop(subset=['location_id', 'location', 'value', 'parameter'])"
   ]
  },
  {
   "cell_type": "markdown",
   "metadata": {},
   "source": [
    "#### Drop rows with Value 0 or less"
   ]
  },
  {
   "cell_type": "code",
   "execution_count": 7,
   "metadata": {},
   "outputs": [
    {
     "data": {
      "text/plain": [
       "21804728"
      ]
     },
     "execution_count": 7,
     "metadata": {},
     "output_type": "execute_result"
    }
   ],
   "source": [
    "df.filter(F.col(\"value\") <= 0).count()"
   ]
  },
  {
   "cell_type": "code",
   "execution_count": 8,
   "metadata": {},
   "outputs": [],
   "source": [
    "# keep only values > 0\n",
    "df = df.filter(F.col(\"value\") > 0)"
   ]
  },
  {
   "cell_type": "markdown",
   "metadata": {},
   "source": [
    "### Filter out Latitude = Longitude\n",
    "\n",
    "Some rows are for locations that have the exact same longitude and latitude, which shouldn't be.\n",
    "\n",
    "The names of these places are often for locations not in the US. We'll filter them out.  "
   ]
  },
  {
   "cell_type": "code",
   "execution_count": 9,
   "metadata": {},
   "outputs": [
    {
     "name": "stdout",
     "output_type": "stream",
     "text": [
      "Number of rows where lat and long are the same: 3303273\n",
      "+--------------------+----------+----------+\n",
      "|            location|       lat|       lon|\n",
      "+--------------------+----------+----------+\n",
      "|20210430 control ...|-6.5952312|-6.5952312|\n",
      "+--------------------+----------+----------+\n",
      "\n"
     ]
    }
   ],
   "source": [
    "# find rows where latitude and longitude are the exact same\n",
    "count_lat_long_same = df.filter(F.col('lat') == F.col('lon')).count()\n",
    "print(f'Number of rows where lat and long are the same: {count_lat_long_same}')\n",
    "\n",
    "# example\n",
    "df.filter(F.col('lat') == F.col('lon')).select('location', 'lat', 'lon').limit(1).show()\n",
    "\n",
    "# filter out rows where lat and lon are equal\n",
    "df = df.filter(F.col('lat') != F.col('lon'))"
   ]
  },
  {
   "cell_type": "markdown",
   "metadata": {},
   "source": [
    "### Pollutants and their Units\n",
    "\n",
    "- we'll examine the pollutants and their units, and remove some we aren't interested in.\n",
    "- we'll also align things like the PM25's µg/m³ units:  µ (micro sign, Unicode: U+00B5) and μ (Greek letter mu, Unicode: U+03BC) are different characters. "
   ]
  },
  {
   "cell_type": "code",
   "execution_count": 10,
   "metadata": {},
   "outputs": [
    {
     "name": "stdout",
     "output_type": "stream",
     "text": [
      "+----------------+-------------+--------+\n",
      "|       parameter|        units|   count|\n",
      "+----------------+-------------+--------+\n",
      "|        pm25-old|         ugm3|     157|\n",
      "|            pm25|          ppm|     197|\n",
      "|             no2|          ppb|    9783|\n",
      "|            pm25|        μg/m³|  139182|\n",
      "|             nox|        µg/m³|  275166|\n",
      "|           um100|particles/cm³|  457663|\n",
      "|              no|        µg/m³|  532918|\n",
      "|              bc|        µg/m³|  793530|\n",
      "|             pm4|        µg/m³|  998267|\n",
      "|        pressure|          hpa| 1023925|\n",
      "|              no|          ppm| 1090600|\n",
      "|             nox|          ppm| 1234171|\n",
      "|           um050|particles/cm³| 1239630|\n",
      "|             voc|          iaq| 1776441|\n",
      "|           um025|particles/cm³| 3143453|\n",
      "|relativehumidity|            %| 3157537|\n",
      "|        pressure|           mb| 4725105|\n",
      "|           um010|particles/cm³| 4754039|\n",
      "|           um005|particles/cm³| 4838150|\n",
      "|           um003|particles/cm³| 5114292|\n",
      "|        humidity|            %| 5728759|\n",
      "|              co|        µg/m³| 6406220|\n",
      "|     temperature|            c| 6894234|\n",
      "|             so2|          ppm| 7080806|\n",
      "|             so2|        µg/m³| 7475914|\n",
      "|              o3|        µg/m³| 7906495|\n",
      "|     temperature|            f| 7911057|\n",
      "|             pm1|        µg/m³| 8662547|\n",
      "|              co|          ppm| 9132726|\n",
      "|             no2|        µg/m³|10975824|\n",
      "|             no2|          ppm|12411801|\n",
      "|            pm10|        µg/m³|29617176|\n",
      "|              o3|          ppm|35427191|\n",
      "|            pm25|        µg/m³|48218789|\n",
      "+----------------+-------------+--------+\n",
      "\n"
     ]
    }
   ],
   "source": [
    "# get unique parameters and their units\n",
    "df_pollutants = df.groupBy('parameter', 'units').count().sort('count')\n",
    "df_pollutants.show(100)"
   ]
  },
  {
   "cell_type": "code",
   "execution_count": 11,
   "metadata": {},
   "outputs": [],
   "source": [
    "# drop some variants of pm25 we aren't interested in\n",
    "df = df.filter((F.col('parameter') != 'pm25') | (F.col('units') != 'ppm'))\n",
    "\n",
    "# any units of 'ppb' have scant rows\n",
    "df = df.filter(F.col('units') != 'ppb')\n",
    "\n",
    "# any rows with units of 'particles/cm3' we aren't interested in\n",
    "df = df.filter(F.col('units') != 'particles/cm³')\n",
    "\n",
    "# filter out some other pollutants we're not interested in\n",
    "df = df.filter(~F.col('parameter').isin(['pm25-old', 'ch4', 'bc', 'nox', 'voc', 'no', 'co2', 'pm4']))\n",
    "\n",
    "# align ug/m3 units\n",
    "# NOTE: the string values below for ug/m3 should not be touched, retyped, etc. The micro/mu are specific characters that look the same, but are different\n",
    "df = df.withColumn('units', F.when(F.col('units') == 'μg/m³', 'µg/m³').otherwise(F.col('units')))"
   ]
  },
  {
   "cell_type": "markdown",
   "metadata": {},
   "source": [
    "#### Convert Temperatures in C to F"
   ]
  },
  {
   "cell_type": "code",
   "execution_count": 12,
   "metadata": {},
   "outputs": [],
   "source": [
    "# convert temperatures with units C to F\n",
    "df = df.withColumn('value',\n",
    "    F.when((F.col('parameter') == 'temperature') & (F.col('units') == 'c'),\n",
    "        (F.col('value') * 1.8) + 32)\n",
    "        .otherwise(F.col('value')\n",
    "    )\n",
    ")\n",
    "\n",
    "# change all units to F when parameter is 'temperature'\n",
    "df = df.withColumn('units', F.when(F.col('parameter') == 'temperature', 'f').otherwise(F.col('units')))"
   ]
  },
  {
   "cell_type": "markdown",
   "metadata": {},
   "source": [
    "#### Change Pressure Units"
   ]
  },
  {
   "cell_type": "code",
   "execution_count": 13,
   "metadata": {},
   "outputs": [],
   "source": [
    "# 1 hectopascal equals 1 millibar, so we'll just change the units to mb\n",
    "df = df.withColumn('units', F.when(F.col('units') == 'hpa', 'mb').otherwise(F.col('units')))"
   ]
  },
  {
   "cell_type": "markdown",
   "metadata": {},
   "source": [
    "#### Convert units for some pollutants\n",
    "\n",
    "**NOTE**: skipping this for now. Conversions vary depending on factors, and for now we'll concetrate on rows with the proper units\n",
    "\n",
    "- for some pollutants, there are measurements in both ug/m3 and ppm\n",
    "- the AQI calculator (EPA algorithm) expects that pollutants have certain units:\n",
    "  - CO - ppm *\n",
    "  - NO2 - ppb *\n",
    "  - O3 - ppm *\n",
    "  - PM10 - ug/m3\n",
    "  - PM25 - ug/m3\n",
    "  - SO2 - ppb *\n",
    "- starred units need conversion in this dataset"
   ]
  },
  {
   "cell_type": "code",
   "execution_count": 14,
   "metadata": {},
   "outputs": [],
   "source": [
    "# TODO: from web research, the converions between ug/m3 and ppb can be quite different depending on temp and pressure, etc. For now, we'll just only use rows with the proper units.\n",
    "\n",
    "# get a few rows where parameter is 'co' and unit is 'ug/m3'\n",
    "# z = df.filter((F.col('parameter') == 'co') & (F.col('units') == 'µg/m³')).limit(5)\n",
    "\n",
    "# NOTE: For now, removing rows with improper units\n",
    "df = df.filter(~(F.col('parameter').isin(['co', 'no2', 'so2']) & (F.col('units') == 'µg/m³')))"
   ]
  },
  {
   "cell_type": "code",
   "execution_count": 15,
   "metadata": {},
   "outputs": [],
   "source": [
    "# convert no2 and so2 to ppb\n",
    "df = df.withColumn('value',\n",
    "    F.when(\n",
    "        (F.col('parameter').isin(['so2', 'no2'])) & (F.col('units') == 'ppm'),\n",
    "        F.col('value') * 1000)\n",
    "        .otherwise(F.col('value')\n",
    "    )\n",
    ")\n",
    "df = df.withColumn('units',\n",
    "    F.when(\n",
    "        (F.col('parameter').isin(['so2', 'no2'])) & (F.col('units') == 'ppm'),\n",
    "        'ppb')\n",
    "        .otherwise(F.col('units')\n",
    "    )\n",
    ")"
   ]
  },
  {
   "cell_type": "markdown",
   "metadata": {},
   "source": [
    "#### After this work on Parameters and Units, we'll create and cache the Pollutants for later use"
   ]
  },
  {
   "cell_type": "code",
   "execution_count": 16,
   "metadata": {},
   "outputs": [
    {
     "name": "stdout",
     "output_type": "stream",
     "text": [
      "+----------------+-----+\n",
      "|       parameter|units|\n",
      "+----------------+-----+\n",
      "|              co|  ppm|\n",
      "|        humidity|    %|\n",
      "|             no2|  ppb|\n",
      "|              o3|  ppm|\n",
      "|              o3|µg/m³|\n",
      "|             pm1|µg/m³|\n",
      "|            pm10|µg/m³|\n",
      "|            pm25|µg/m³|\n",
      "|        pressure|   mb|\n",
      "|relativehumidity|    %|\n",
      "|             so2|  ppb|\n",
      "|     temperature|    f|\n",
      "+----------------+-----+\n",
      "\n"
     ]
    }
   ],
   "source": [
    "df_pollutants = df.groupBy('parameter', 'units').count().drop('count').sort('parameter', 'units').cache()\n",
    "df_pollutants.show(100)"
   ]
  },
  {
   "cell_type": "markdown",
   "metadata": {},
   "source": [
    "#### Daily Averages\n",
    "\n",
    "- average rows per day, per location, per parameter and unit"
   ]
  },
  {
   "cell_type": "code",
   "execution_count": 17,
   "metadata": {},
   "outputs": [],
   "source": [
    "# convert datetime column to yyyy-mm-dd as 'date'\n",
    "df = df.withColumn('date', F.date_format(F.col('datetime'), 'yyyy-MM-dd'))\n",
    "\n",
    "# as we're averaging on day, we don't need the precision of the datetime column\n",
    "df = df.drop('datetime')\n",
    "\n",
    "# also don't need sensors_id or units column anymore\n",
    "df = df.drop('sensors_id', 'units')\n",
    "\n",
    "df_daily = df.groupBy('location_id', 'parameter', 'date').agg(\n",
    "    F.first('location').alias('location'),\n",
    "    F.first('lat').alias('lat'),\n",
    "    F.first('lon').alias('lon'),\n",
    "    F.avg('value').alias('value')\n",
    ").cache()"
   ]
  },
  {
   "cell_type": "code",
   "execution_count": null,
   "metadata": {},
   "outputs": [],
   "source": [
    "df_daily.show()"
   ]
  },
  {
   "cell_type": "markdown",
   "metadata": {},
   "source": [
    "#### Pivot Pollutants"
   ]
  },
  {
   "cell_type": "code",
   "execution_count": 18,
   "metadata": {},
   "outputs": [],
   "source": [
    "# pivot parameter column\n",
    "df_pivot = df_daily.groupBy('location_id', 'location', 'date', 'lat', 'lon').pivot('parameter').agg(F.avg('value'))"
   ]
  },
  {
   "cell_type": "code",
   "execution_count": null,
   "metadata": {},
   "outputs": [],
   "source": [
    "df_pivot.limit(10).show()"
   ]
  },
  {
   "cell_type": "markdown",
   "metadata": {},
   "source": [
    "##### Drop rows where PM25 is null"
   ]
  },
  {
   "cell_type": "code",
   "execution_count": null,
   "metadata": {},
   "outputs": [],
   "source": [
    "# drop rows where pm25 is null\n",
    "df_pivot = df_pivot.na.drop(subset=['pm25'])"
   ]
  },
  {
   "cell_type": "markdown",
   "metadata": {},
   "source": [
    "### Geocode\n",
    "\n",
    "NOTE: this is on hold for now: geopy is rate-limiting calls. Instead we'll use rough latitude and longitude bounding box for US\n",
    "\n",
    "We'll Geocode the latitude and longitude values to:\n",
    "\n",
    "- cull locations that aren't in the US\n",
    "- use the added categorical geographic information (State, County, etc) in analysis"
   ]
  },
  {
   "cell_type": "code",
   "execution_count": null,
   "metadata": {},
   "outputs": [],
   "source": [
    "from geopy.geocoders import Nominatim\n",
    "\n",
    "def geocode(lat, lon):\n",
    "    geolocator = Nominatim(user_agent=\"group_project\")\n",
    "    location = geolocator.reverse((lat, lon), exactly_one=True)\n",
    "    address = location.raw['address']\n",
    "    # we only need city, state, county, country, and country_code\n",
    "    geocode_info =  {\n",
    "        'city': address.get('city', ''),\n",
    "        'state': address.get('state', ''),\n",
    "        'county': address.get('county', ''),\n",
    "        'country': address.get('country', ''),\n",
    "        'country_code': address.get('country_code', '')\n",
    "    }\n",
    "    return geocode_info\n",
    "\n",
    "geocode_udf = F.udf(geocode, T.MapType(T.StringType(), T.StringType()))"
   ]
  },
  {
   "cell_type": "markdown",
   "metadata": {},
   "source": [
    "#### Geocoding was removed for now as we're hitting Geopy rate limits"
   ]
  },
  {
   "cell_type": "code",
   "execution_count": null,
   "metadata": {},
   "outputs": [
    {
     "data": {
      "text/plain": [
       "'\\ndf = df_pivot.withColumn(\\'geotag\\', geocode_udf(F.col(\\'lat\\'), F.col(\\'lon\\')))\\ndf = df.selectExpr(\"*\", \"geotag[\\'city\\'] as city\", \"geotag[\\'state\\'] as state\", \"geotag[\\'county\\'] as county\", \"geotag[\\'country\\'] as country\", \"geotag[\\'country_code\\'] as country_code\")\\n\\n# drop geotag column\\ndf = df.drop(\\'geotag\\').cache()\\n\\n# drop rows that aren\\'t in the United States\\ndf = df.filter(F.col(\\'country_code\\') == \\'us\\')\\n'"
      ]
     },
     "execution_count": 27,
     "metadata": {},
     "output_type": "execute_result"
    }
   ],
   "source": [
    "# TODO: fix rate limit problems\n",
    "\"\"\"\n",
    "df = df_pivot.withColumn('geotag', geocode_udf(F.col('lat'), F.col('lon')))\n",
    "df = df.selectExpr(\"*\", \"geotag['city'] as city\", \"geotag['state'] as state\", \"geotag['county'] as county\", \"geotag['country'] as country\", \"geotag['country_code'] as country_code\")\n",
    "\n",
    "# drop geotag column\n",
    "df = df.drop('geotag').cache()\n",
    "\n",
    "# drop rows that aren't in the United States\n",
    "df = df.filter(F.col('country_code') == 'us')\n",
    "\"\"\""
   ]
  },
  {
   "cell_type": "markdown",
   "metadata": {},
   "source": [
    "#### For now, we'll use rough Latitude / Longitude bounding box to limit to US stations"
   ]
  },
  {
   "cell_type": "code",
   "execution_count": null,
   "metadata": {},
   "outputs": [],
   "source": [
    "# latitude and longitude bounding box for US\n",
    "bounding_north = 49.35\n",
    "bounding_south = 24.4\n",
    "bounding_east = -66.93\n",
    "bounding_west = -125\n",
    "\n",
    "df = df_pivot.filter((F.col('lat') >= bounding_south) & (F.col('lat') <= bounding_north) & (F.col('lon') >= bounding_west) & (F.col('lon') <= bounding_east))"
   ]
  },
  {
   "cell_type": "markdown",
   "metadata": {},
   "source": [
    "### AQI"
   ]
  },
  {
   "cell_type": "code",
   "execution_count": null,
   "metadata": {},
   "outputs": [],
   "source": [
    "import aqi\n",
    "\n",
    "def calculate_aqi(pm10, pm25, co, no2, o3, so2):\n",
    "\n",
    "    try:\n",
    "        pollutants = []\n",
    "\n",
    "        pollutants.append((aqi.POLLUTANT_PM10, pm10)) if pm10 else None\n",
    "        pollutants.append((aqi.POLLUTANT_PM25, pm25)) if pm25 else None\n",
    "        pollutants.append((aqi.POLLUTANT_CO_8H, co)) if co else None\n",
    "        pollutants.append((aqi.POLLUTANT_NO2_1H, no2)) if no2 else None\n",
    "        pollutants.append((aqi.POLLUTANT_O3_8H, o3)) if o3 else None\n",
    "        pollutants.append((aqi.POLLUTANT_SO2_1H, so2)) if so2 else None\n",
    "\n",
    "        return(float(aqi.to_aqi(pollutants)))\n",
    "\n",
    "    except Exception as e:\n",
    "        return None\n",
    "# -------------------------------\n",
    "\n",
    "# register UDF\n",
    "aqi_udf = F.udf(calculate_aqi, T.FloatType())\n",
    "\n",
    "# add AQI column\n",
    "df = df.withColumn('aqi', aqi_udf(F.col('pm10'), F.col('pm25'), F.col('co'), F.col('no2'), F.col('o3'), F.col('so2')))"
   ]
  },
  {
   "cell_type": "code",
   "execution_count": null,
   "metadata": {},
   "outputs": [],
   "source": [
    "def aqi_category(aqi_score):\n",
    "    if aqi_score is None:\n",
    "        return None\n",
    "    elif aqi_score <= 50:\n",
    "        return \"Good\"\n",
    "    elif aqi_score <= 100:\n",
    "        return \"Moderate\"\n",
    "    elif aqi_score <= 150:\n",
    "        return \"Unhealthy for Sensitive Groups\"\n",
    "    elif aqi_score <= 200:\n",
    "        return \"Unhealthy\"\n",
    "    elif aqi_score <= 300:\n",
    "        return \"Very Unhealthy\"\n",
    "    elif aqi_score > 300:\n",
    "        return \"Hazardous\"\n",
    "    else:\n",
    "        return None\n",
    "\n",
    "# register UDF\n",
    "aqi_category_udf = F.udf(aqi_category, T.StringType())\n",
    "\n",
    "df = df.withColumn(\"aqi_category\", aqi_category_udf(F.col(\"aqi\")))"
   ]
  },
  {
   "cell_type": "markdown",
   "metadata": {},
   "source": [
    "### Model - Linear Regression"
   ]
  },
  {
   "cell_type": "code",
   "execution_count": 31,
   "metadata": {},
   "outputs": [],
   "source": [
    "from pyspark.ml.feature import VectorAssembler\n",
    "from pyspark.ml.regression import LinearRegression\n",
    "from pyspark.ml.evaluation import RegressionEvaluator\n",
    "\n",
    "df_model = df"
   ]
  },
  {
   "cell_type": "markdown",
   "metadata": {},
   "source": [
    "#### Looking at Average PM2.5 values"
   ]
  },
  {
   "cell_type": "code",
   "execution_count": null,
   "metadata": {},
   "outputs": [],
   "source": [
    "pm25_df = df_model.toPandas()\n",
    "\n",
    "# sort by date\n",
    "pm25_df = pm25_df.sort_values('date')\n",
    "\n",
    "plt.figure(figsize=(10, 6))\n",
    "plt.plot(pm25_df['date'], pm25_df['pm25'], marker='o', linestyle='-')\n",
    "\n",
    "plt.title('PM2.5 Values in US')\n",
    "plt.xlabel('Date')\n",
    "plt.ylabel('Average PM2.5 (µg/m³)')\n",
    "plt.grid(True)\n",
    "\n",
    "plt.xticks(rotation=45)\n",
    "\n",
    "x_tick_spacing = 8\n",
    "\n",
    "# reduce x labels\n",
    "plt.gca().set_xticks(pm25_df['date'][::x_tick_spacing])\n",
    "\n",
    "# Customize the tick labels to show only the year\n",
    "plt.gca().set_xticklabels([date[:7] for date in pm25_df['date'][::x_tick_spacing]])\n",
    "\n",
    "plt.tight_layout()\n",
    "plt.show()"
   ]
  },
  {
   "cell_type": "markdown",
   "metadata": {},
   "source": [
    "#### For linear regression, will use a timestamp column (UNIX epoch)"
   ]
  },
  {
   "cell_type": "code",
   "execution_count": 55,
   "metadata": {},
   "outputs": [],
   "source": [
    "# converting date column to timestamp \n",
    "df_model = df_model.withColumn('timestamp', F.unix_timestamp(F.col('date'), 'yyyy-MM-dd'))"
   ]
  },
  {
   "cell_type": "markdown",
   "metadata": {},
   "source": [
    "#### Split data into  training and tests sets, create model"
   ]
  },
  {
   "cell_type": "code",
   "execution_count": 236,
   "metadata": {},
   "outputs": [
    {
     "name": "stdout",
     "output_type": "stream",
     "text": [
      "Coefficients: [4.911536556608209e-08]\n",
      "Intercept: -70.7635985072132\n"
     ]
    }
   ],
   "source": [
    "# splitting into test and training set\n",
    "train_df = df_model.filter(F.col('date') < '2023-01-01')\n",
    "test_df = df_model.filter(F.col('date') >= '2023-01-01')\n",
    "\n",
    "# creating feature vectors\n",
    "assembler = VectorAssembler(inputCols=['timestamp'], outputCol='features', handleInvalid='skip')\n",
    "train_df = assembler.transform(train_df)\n",
    "test_df = assembler.transform(test_df)\n",
    "\n",
    "# creating a linear regression model\n",
    "lr_model = LinearRegression(featuresCol='features', labelCol='pm25').fit(train_df)\n",
    "\n",
    "# print the coefficients and intercept for linear regression\n",
    "print(f\"Coefficients: {lr_model.coefficients}\")\n",
    "print(f\"Intercept: {lr_model.intercept}\")"
   ]
  },
  {
   "cell_type": "code",
   "execution_count": 237,
   "metadata": {},
   "outputs": [
    {
     "name": "stdout",
     "output_type": "stream",
     "text": [
      "+----------+-------------------+------------------+\n",
      "|      date|               pm25|        prediction|\n",
      "+----------+-------------------+------------------+\n",
      "|2023-10-14| 3.9875000000000003|12.598280837961141|\n",
      "|2023-01-23|              4.625|11.478155810861068|\n",
      "|2023-08-02| 15.795833333333336|12.288500404262749|\n",
      "|2023-11-13| 10.791666666666666|12.725764680824454|\n",
      "|2023-07-24|              10.75|12.250308295998565|\n",
      "|2023-05-10|  2.385714285714286|11.932040727130342|\n",
      "|2023-10-07|0.13913043478260875|12.568575864866773|\n",
      "|2023-10-02| 21.948809523809523| 12.54735802694222|\n",
      "|2023-10-07| 27.211815561959643|12.568575864866773|\n",
      "|2024-03-10|                0.1| 13.22650565584378|\n",
      "|2023-04-05|                5.5|11.783515861658515|\n",
      "|2023-10-02| 0.6363636363636364| 12.54735802694222|\n",
      "|2023-10-06|  6.410000000000001|12.564332297281865|\n",
      "|2023-08-08|  5.718181818181818|12.313961809772195|\n",
      "+----------+-------------------+------------------+\n",
      "\n",
      "Root Mean Squared Error (RMSE) on test data = 8.955761060050015\n"
     ]
    }
   ],
   "source": [
    "# predicting pm2.5 values based on linear regression model\n",
    "predictions = lr_model.transform(test_df)\n",
    "\n",
    "_predictions = predictions.select('date', 'pm25', 'prediction')\n",
    "_predictions.show()\n",
    "\n",
    "# # evaluating the model with root mean squared error\n",
    "evaluator = RegressionEvaluator(labelCol=\"pm25\", predictionCol=\"prediction\", metricName=\"rmse\")\n",
    "rmse = evaluator.evaluate(predictions)\n",
    "print(f\"Root Mean Squared Error (RMSE) on test data = {rmse}\")"
   ]
  },
  {
   "cell_type": "code",
   "execution_count": 240,
   "metadata": {},
   "outputs": [
    {
     "name": "stdout",
     "output_type": "stream",
     "text": [
      "Max prediction: 13.22650565584378\n",
      "Min prediction: 11.478155810861068\n"
     ]
    }
   ],
   "source": [
    "# get max and min from predictions_df\n",
    "max_prediction = predictions_df['prediction'].max()\n",
    "min_prediction = predictions_df['prediction'].min()\n",
    "\n",
    "print(f'Max prediction: {max_prediction}')\n",
    "print(f'Min prediction: {min_prediction}')\n"
   ]
  },
  {
   "cell_type": "code",
   "execution_count": 244,
   "metadata": {},
   "outputs": [
    {
     "data": {
      "image/png": "[encoded data removed]",
      "text/plain": [
       "<Figure size 1000x600 with 1 Axes>"
      ]
     },
     "metadata": {},
     "output_type": "display_data"
    }
   ],
   "source": [
    "predictions_df = _predictions.toPandas()\n",
    "\n",
    "# sort by date\n",
    "predictions_df = predictions_df.sort_values('date').reset_index(drop=True)\n",
    "\n",
    "# plotting predicted vs actual pm2.5 values\n",
    "plt.figure(figsize=(10, 6))\n",
    "# plt.plot(predictions_df['date'], predictions_df['pm25'], marker='o', linestyle='-', label='Actual')\n",
    "plt.plot(pm25_df['date'], pm25_df['pm25'], marker='o', linestyle='-')\n",
    "plt.plot(predictions_df['date'], predictions_df['prediction'], marker='o', linestyle='-', label='Predicted')\n",
    "\n",
    "plt.title('Actual vs Predicted PM2.5 Values in US')\n",
    "plt.xlabel('Date')\n",
    "plt.grid(True)\n",
    "\n",
    "plt.xticks(rotation=45)\n",
    "\n",
    "x_tick_spacing = 8\n",
    "\n",
    "# reduce x labels\n",
    "plt.gca().set_xticks(pm25_df['date'][::x_tick_spacing])\n",
    "\n",
    "# Customize the tick labels to show only the year\n",
    "plt.gca().set_xticklabels([date[:7] for date in pm25_df['date'][::x_tick_spacing]])\n",
    "\n",
    "\n",
    "plt.tight_layout()\n",
    "plt.show()"
   ]
  }
 ],
 "metadata": {
  "kernelspec": {
   "display_name": "Python 3 (ipykernel)",
   "language": "python",
   "name": "python3"
  },
  "language_info": {
   "codemirror_mode": {
    "name": "ipython",
    "version": 3
   },
   "file_extension": ".py",
   "mimetype": "text/x-python",
   "name": "python",
   "nbconvert_exporter": "python",
   "pygments_lexer": "ipython3",
   "version": "3.10.1"
  }
 },
 "nbformat": 4,
 "nbformat_minor": 4
}
