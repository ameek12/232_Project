{
 "cells": [
  {
   "cell_type": "markdown",
   "metadata": {},
   "source": [
    "### SDSC"
   ]
  },
  {
   "cell_type": "code",
   "execution_count": null,
   "metadata": {},
   "outputs": [],
   "source": [
    "# Importing libraries\n",
    "import numpy as np \n",
    "import pandas as pd \n",
    "import os\n",
    "import sys\n",
    "from pyspark.sql import SparkSession\n",
    "os.environ[\"PYSPARK_PYTHON\"] = sys.executable\n",
    "os.environ[\"PYSPARK_DRIVER_PYTHON\"] = sys.executable\n",
    "\n",
    "from pyspark.sql import SparkSession\n",
    "\n",
    "# SDSC limits: 128 executors, 250 GB memory\n",
    "# This config is for 30 cores, 240 GB memory:\n",
    "spark = SparkSession.builder \\\n",
    "    .config(\"spark.driver.memory\", \"8g\") \\\n",
    "    .config(\"spark.executor.memory\", \"8g\")\\\n",
    "    .config('spark.executor.instances', 29) \\\n",
    "    .getOrCreate()"
   ]
  },
  {
   "cell_type": "markdown",
   "metadata": {},
   "source": [
    "### Local\n"
   ]
  },
  {
   "cell_type": "code",
   "execution_count": 2,
   "metadata": {},
   "outputs": [],
   "source": [
    "import numpy as np\n",
    "import pandas as pd\n",
    "import os\n",
    "import sys\n",
    "\n",
    "os.environ[\"PYSPARK_PYTHON\"] = sys.executable\n",
    "os.environ[\"PYSPARK_DRIVER_PYTHON\"] = sys.executable"
   ]
  },
  {
   "cell_type": "code",
   "execution_count": 6,
   "metadata": {},
   "outputs": [
    {
     "name": "stdout",
     "output_type": "stream",
     "text": [
      "72993\n"
     ]
    }
   ],
   "source": [
    "# load pickle file US_1000.pkl\n",
    "df = pd.read_pickle('US_1000.pkl')\n",
    "\n",
    "print(len(df))"
   ]
  },
  {
   "cell_type": "code",
   "execution_count": 4,
   "metadata": {},
   "outputs": [
    {
     "data": {
      "text/html": [
       "<div>\n",
       "<style scoped>\n",
       "    .dataframe tbody tr th:only-of-type {\n",
       "        vertical-align: middle;\n",
       "    }\n",
       "\n",
       "    .dataframe tbody tr th {\n",
       "        vertical-align: top;\n",
       "    }\n",
       "\n",
       "    .dataframe thead th {\n",
       "        text-align: right;\n",
       "    }\n",
       "</style>\n",
       "<table border=\"1\" class=\"dataframe\">\n",
       "  <thead>\n",
       "    <tr style=\"text-align: right;\">\n",
       "      <th></th>\n",
       "      <th>location_id</th>\n",
       "      <th>sensors_id</th>\n",
       "      <th>location</th>\n",
       "      <th>datetime</th>\n",
       "      <th>lat</th>\n",
       "      <th>lon</th>\n",
       "      <th>parameter</th>\n",
       "      <th>units</th>\n",
       "      <th>value</th>\n",
       "    </tr>\n",
       "  </thead>\n",
       "  <tbody>\n",
       "    <tr>\n",
       "      <th>0</th>\n",
       "      <td>1000</td>\n",
       "      <td>1803</td>\n",
       "      <td>Presque Isle Riversi-1000</td>\n",
       "      <td>2022-11-06 05:00:00</td>\n",
       "      <td>46.682299</td>\n",
       "      <td>-68.016195</td>\n",
       "      <td>pm10</td>\n",
       "      <td>µg/m³</td>\n",
       "      <td>11.000000</td>\n",
       "    </tr>\n",
       "    <tr>\n",
       "      <th>1</th>\n",
       "      <td>1000</td>\n",
       "      <td>1803</td>\n",
       "      <td>Presque Isle Riversi-1000</td>\n",
       "      <td>2022-11-06 06:00:00</td>\n",
       "      <td>46.682299</td>\n",
       "      <td>-68.016195</td>\n",
       "      <td>pm10</td>\n",
       "      <td>µg/m³</td>\n",
       "      <td>10.000000</td>\n",
       "    </tr>\n",
       "    <tr>\n",
       "      <th>2</th>\n",
       "      <td>1000</td>\n",
       "      <td>1803</td>\n",
       "      <td>Presque Isle Riversi-1000</td>\n",
       "      <td>2022-11-06 07:00:00</td>\n",
       "      <td>46.682299</td>\n",
       "      <td>-68.016195</td>\n",
       "      <td>pm10</td>\n",
       "      <td>µg/m³</td>\n",
       "      <td>16.000000</td>\n",
       "    </tr>\n",
       "    <tr>\n",
       "      <th>3</th>\n",
       "      <td>1000</td>\n",
       "      <td>1803</td>\n",
       "      <td>Presque Isle Riversi-1000</td>\n",
       "      <td>2022-11-06 09:00:00</td>\n",
       "      <td>46.682299</td>\n",
       "      <td>-68.016195</td>\n",
       "      <td>pm10</td>\n",
       "      <td>µg/m³</td>\n",
       "      <td>13.000000</td>\n",
       "    </tr>\n",
       "    <tr>\n",
       "      <th>4</th>\n",
       "      <td>1000</td>\n",
       "      <td>1803</td>\n",
       "      <td>Presque Isle Riversi-1000</td>\n",
       "      <td>2022-11-06 09:00:00</td>\n",
       "      <td>46.682299</td>\n",
       "      <td>-68.016195</td>\n",
       "      <td>pm10</td>\n",
       "      <td>µg/m³</td>\n",
       "      <td>12.000000</td>\n",
       "    </tr>\n",
       "  </tbody>\n",
       "</table>\n",
       "</div>"
      ],
      "text/plain": [
       "   location_id  sensors_id                   location            datetime  \\\n",
       "0         1000        1803  Presque Isle Riversi-1000 2022-11-06 05:00:00   \n",
       "1         1000        1803  Presque Isle Riversi-1000 2022-11-06 06:00:00   \n",
       "2         1000        1803  Presque Isle Riversi-1000 2022-11-06 07:00:00   \n",
       "3         1000        1803  Presque Isle Riversi-1000 2022-11-06 09:00:00   \n",
       "4         1000        1803  Presque Isle Riversi-1000 2022-11-06 09:00:00   \n",
       "\n",
       "         lat         lon parameter  units      value  \n",
       "0  46.682299  -68.016195      pm10  µg/m³  11.000000  \n",
       "1  46.682299  -68.016195      pm10  µg/m³  10.000000  \n",
       "2  46.682299  -68.016195      pm10  µg/m³  16.000000  \n",
       "3  46.682299  -68.016195      pm10  µg/m³  13.000000  \n",
       "4  46.682299  -68.016195      pm10  µg/m³  12.000000  "
      ]
     },
     "execution_count": 4,
     "metadata": {},
     "output_type": "execute_result"
    }
   ],
   "source": [
    "df.head()"
   ]
  },
  {
   "cell_type": "code",
   "execution_count": 11,
   "metadata": {},
   "outputs": [
    {
     "data": {
      "text/plain": [
       "array(['pm10', 'pm25', '-68.016195'], dtype=object)"
      ]
     },
     "execution_count": 11,
     "metadata": {},
     "output_type": "execute_result"
    }
   ],
   "source": [
    "# get unique parameter\n",
    "df.parameter.unique()"
   ]
  }
 ],
 "metadata": {
  "kernelspec": {
   "display_name": "wenv",
   "language": "python",
   "name": "python3"
  },
  "language_info": {
   "codemirror_mode": {
    "name": "ipython",
    "version": 3
   },
   "file_extension": ".py",
   "mimetype": "text/x-python",
   "name": "python",
   "nbconvert_exporter": "python",
   "pygments_lexer": "ipython3",
   "version": "3.10.1"
  }
 },
 "nbformat": 4,
 "nbformat_minor": 2
}
