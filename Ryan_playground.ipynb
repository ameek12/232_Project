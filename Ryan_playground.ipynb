{
 "cells": [
  {
   "cell_type": "markdown",
   "metadata": {},
   "source": [
    "### Local\n"
   ]
  },
  {
   "cell_type": "code",
   "execution_count": 2,
   "metadata": {},
   "outputs": [],
   "source": [
    "import numpy as np\n",
    "import pandas as pd\n",
    "import os\n",
    "import sys\n",
    "\n",
    "os.environ[\"PYSPARK_PYTHON\"] = sys.executable\n",
    "os.environ[\"PYSPARK_DRIVER_PYTHON\"] = sys.executable"
   ]
  },
  {
   "cell_type": "code",
   "execution_count": 6,
   "metadata": {},
   "outputs": [
    {
     "name": "stdout",
     "output_type": "stream",
     "text": [
      "72993\n"
     ]
    }
   ],
   "source": [
    "# load pickle file US_1000.pkl\n",
    "df = pd.read_pickle('US_1000.pkl')\n",
    "print(len(df))"
   ]
  },
  {
   "cell_type": "code",
   "execution_count": 11,
   "metadata": {},
   "outputs": [
    {
     "data": {
      "text/plain": [
       "array(['pm10', 'pm25', '-68.016195'], dtype=object)"
      ]
     },
     "execution_count": 11,
     "metadata": {},
     "output_type": "execute_result"
    }
   ],
   "source": [
    "# get unique parameter\n",
    "df.parameter.unique()"
   ]
  },
  {
   "cell_type": "markdown",
   "metadata": {},
   "source": [
    "### SDSC"
   ]
  },
  {
   "cell_type": "code",
   "execution_count": 1,
   "metadata": {},
   "outputs": [],
   "source": [
    "# Importing libraries\n",
    "import numpy as np \n",
    "import pandas as pd \n",
    "import os\n",
    "import sys\n",
    "from pyspark.sql import SparkSession\n",
    "os.environ[\"PYSPARK_PYTHON\"] = sys.executable\n",
    "os.environ[\"PYSPARK_DRIVER_PYTHON\"] = sys.executable\n",
    "\n",
    "from pyspark.sql import SparkSession\n",
    "\n",
    "\n",
    "# --- Creating a spark session ---\n",
    "# SDSC limits: 128 executors, 250 GB memory\n",
    "\n",
    "# SET: use to the values used to start this SDSC Jupyter session\n",
    "node_memory = 240\n",
    "node_cores = 80\n",
    "\n",
    "# SET: how many cores you want allocated to the driver node\n",
    "driver_cores = 10\n",
    "\n",
    "executor_cores = node_cores - driver_cores\n",
    "executor_memory = node_memory // executor_cores\n",
    "driver_memory = node_memory - (executor_cores * executor_memory)\n",
    "\n",
    "spark = SparkSession.builder \\\n",
    "    .config(\"spark.driver.memory\", f'{driver_memory}g') \\\n",
    "    .config(\"spark.executor.memory\", f'{executor_memory}g')\\\n",
    "    .config('spark.executor.instances', executor_cores) \\\n",
    "    .getOrCreate()"
   ]
  },
  {
   "cell_type": "code",
   "execution_count": 2,
   "metadata": {},
   "outputs": [],
   "source": [
    "from pyspark.sql.types import StructType, StructField, IntegerType, StringType, TimestampType, DecimalType\n",
    "# Loading the parsed pickled RDD\n",
    "pickledRDD = spark.sparkContext.pickleFile(\"/expanse/lustre/projects/uci150/ameek1/df_pkl_parsed\")\n",
    "schema = StructType([\n",
    "    StructField(\"location_id\", IntegerType(), True),\n",
    "    StructField(\"sensors_id\", IntegerType(), True),\n",
    "    StructField(\"location\", StringType(), True),\n",
    "    StructField(\"datetime\", TimestampType(), True),\n",
    "    StructField(\"lat\", DecimalType(precision=10, scale=6), True),\n",
    "    StructField(\"lon\", DecimalType(precision=10, scale=6), True),\n",
    "    StructField(\"parameter\", StringType(), True),\n",
    "    StructField(\"units\", StringType(), True),\n",
    "    StructField(\"value\", DecimalType(precision=10, scale=6), True),\n",
    "    StructField(\"date\", StringType(), True),  \n",
    "    StructField(\"time\", StringType(), True)   \n",
    "\n",
    "])\n",
    "# Converting the RDD to a DataFrame\n",
    "df = spark.createDataFrame(pickledRDD, schema)"
   ]
  },
  {
   "cell_type": "code",
   "execution_count": 3,
   "metadata": {},
   "outputs": [
    {
     "data": {
      "text/plain": [
       "['location_id',\n",
       " 'sensors_id',\n",
       " 'location',\n",
       " 'datetime',\n",
       " 'lat',\n",
       " 'lon',\n",
       " 'parameter',\n",
       " 'units',\n",
       " 'value',\n",
       " 'date',\n",
       " 'time']"
      ]
     },
     "execution_count": 3,
     "metadata": {},
     "output_type": "execute_result"
    }
   ],
   "source": [
    "df.columns"
   ]
  },
  {
   "cell_type": "code",
   "execution_count": 4,
   "metadata": {},
   "outputs": [],
   "source": [
    "import pyspark.sql.functions as F"
   ]
  },
  {
   "cell_type": "code",
   "execution_count": 6,
   "metadata": {},
   "outputs": [],
   "source": [
    "# group by station, and count the number of distinct parameters (which are the number of pollutants recorded)\n",
    "# filter to only include stations with at least 5\n",
    "\n",
    "grouped_df = df.groupBy('location_id').agg(F.countDistinct('parameter').alias('pollutant_count'))\n",
    "filtered_df = grouped_df.filter(F.col('pollutant_count') >= 5)"
   ]
  },
  {
   "cell_type": "code",
   "execution_count": 7,
   "metadata": {},
   "outputs": [
    {
     "data": {
      "text/plain": [
       "36"
      ]
     },
     "execution_count": 7,
     "metadata": {},
     "output_type": "execute_result"
    }
   ],
   "source": [
    "filtered_df.count()"
   ]
  },
  {
   "cell_type": "code",
   "execution_count": 11,
   "metadata": {},
   "outputs": [],
   "source": [
    "z = filtered_df."
   ]
  },
  {
   "cell_type": "code",
   "execution_count": 13,
   "metadata": {},
   "outputs": [
    {
     "data": {
      "text/plain": [
       "[Row(location_id=1265, pollutant_count=6),\n",
       " Row(location_id=1533, pollutant_count=7),\n",
       " Row(location_id=1226, pollutant_count=6),\n",
       " Row(location_id=1496, pollutant_count=5),\n",
       " Row(location_id=1122, pollutant_count=5),\n",
       " Row(location_id=1113, pollutant_count=7),\n",
       " Row(location_id=1091, pollutant_count=5),\n",
       " Row(location_id=1142, pollutant_count=6),\n",
       " Row(location_id=1236, pollutant_count=6),\n",
       " Row(location_id=1297, pollutant_count=8),\n",
       " Row(location_id=1289, pollutant_count=7),\n",
       " Row(location_id=1285, pollutant_count=6),\n",
       " Row(location_id=1064, pollutant_count=8),\n",
       " Row(location_id=1181, pollutant_count=5),\n",
       " Row(location_id=1540, pollutant_count=8),\n",
       " Row(location_id=1305, pollutant_count=6),\n",
       " Row(location_id=1200, pollutant_count=7),\n",
       " Row(location_id=1120, pollutant_count=6),\n",
       " Row(location_id=1311, pollutant_count=6),\n",
       " Row(location_id=1069, pollutant_count=7),\n",
       " Row(location_id=1518, pollutant_count=6),\n",
       " Row(location_id=10363, pollutant_count=5),\n",
       " Row(location_id=1375, pollutant_count=5),\n",
       " Row(location_id=1520, pollutant_count=6),\n",
       " Row(location_id=1522, pollutant_count=5),\n",
       " Row(location_id=1459, pollutant_count=5),\n",
       " Row(location_id=1409, pollutant_count=8),\n",
       " Row(location_id=1559, pollutant_count=6),\n",
       " Row(location_id=1121, pollutant_count=7),\n",
       " Row(location_id=1545, pollutant_count=5),\n",
       " Row(location_id=1040, pollutant_count=5),\n",
       " Row(location_id=1291, pollutant_count=5),\n",
       " Row(location_id=1299, pollutant_count=5),\n",
       " Row(location_id=1542, pollutant_count=5),\n",
       " Row(location_id=1556, pollutant_count=5),\n",
       " Row(location_id=1052, pollutant_count=5)]"
      ]
     },
     "execution_count": 13,
     "metadata": {},
     "output_type": "execute_result"
    }
   ],
   "source": [
    "z"
   ]
  }
 ],
 "metadata": {
  "kernelspec": {
   "display_name": "Python 3 (ipykernel)",
   "language": "python",
   "name": "python3"
  },
  "language_info": {
   "codemirror_mode": {
    "name": "ipython",
    "version": 3
   },
   "file_extension": ".py",
   "mimetype": "text/x-python",
   "name": "python",
   "nbconvert_exporter": "python",
   "pygments_lexer": "ipython3",
   "version": "3.11.6"
  }
 },
 "nbformat": 4,
 "nbformat_minor": 4
}
