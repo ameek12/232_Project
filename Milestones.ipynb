{
 "cells": [
  {
   "attachments": {},
   "cell_type": "markdown",
   "id": "792bb169-db52-47f6-a9bf-e27bd9de58ef",
   "metadata": {},
   "source": [
    "# __Milestone 1: Abstract/Dataset__\n",
    "\n",
    "According to Billboard Hot 100 chart “The Macarena (Bayside Boys mix)” is the 9th most popular song in recorded history. Some may consider this ranking to be too low for such a catchy song. The Macarena was the “it” song of 1996 – famously captured in the 1996 Democratic National Convention and danced along to by the likes of former Secretary of State Hillary Clinton. But what made “The Macarena” such an addicting song? As one the largest and most popular music streaming services, Spotify welcomes 602 million monthly active listeners in approximately 184 markets including Europe, Africa, the Americas, Asia, and Oceania. \n",
    "\n",
    "While consumers enjoy listening to great music, they do not give much thought to why they like the music they like. Could there be trends in the underlying features of popular songs that make them particularly popular among the masses? Do any feature anomalies make a song uniquely popular? This project will explore these questions. \n",
    "\n",
    "The dataset is derived from Spotify’s “The Echo Nest”, a music and intelligence data platform. Supervised techniques such as regression analysis will be employed to predict whether a song is popular, as well as to classify songs based on various features. Unsupervised techniques will also be used, including clustering artists together based on similar features. The information conveyed from this dataset has potentially profound implications on artists – it would not only be useful  for recommendation purposes but also for musicians to better understand their target audience."
   ]
  },
  {
   "attachments": {},
   "cell_type": "markdown",
   "id": "71046d19-a3f9-469f-8394-c364993f382f",
   "metadata": {},
   "source": [
    "# __Milestone 2: Data Preprocessing (Data Exploration)__\n"
   ]
  },
  {
   "attachments": {},
   "cell_type": "markdown",
   "id": "b2543f29-b908-48dc-aa9b-22d62eea15ed",
   "metadata": {},
   "source": [
    "# __Milestone 3: Normalizing Data, Nulls, one hot encoding__"
   ]
  },
  {
   "attachments": {},
   "cell_type": "markdown",
   "id": "0b9e30af-5442-44da-b3c4-0950a4212e15",
   "metadata": {},
   "source": [
    "# __Milestone 4: Develop and Deploy Machine Learning Models__"
   ]
  },
  {
   "attachments": {},
   "cell_type": "markdown",
   "id": "9ecb846a-b51b-4f23-81ec-670a9196d67f",
   "metadata": {},
   "source": [
    "# __Milestone 5: Model Evaluations ie Results and Conclusions__ "
   ]
  }
 ],
 "metadata": {
  "kernelspec": {
   "display_name": "Python 3 (ipykernel)",
   "language": "python",
   "name": "python3"
  },
  "language_info": {
   "codemirror_mode": {
    "name": "ipython",
    "version": 3
   },
   "file_extension": ".py",
   "mimetype": "text/x-python",
   "name": "python",
   "nbconvert_exporter": "python",
   "pygments_lexer": "ipython3",
   "version": "3.10.9"
  }
 },
 "nbformat": 4,
 "nbformat_minor": 5
}
