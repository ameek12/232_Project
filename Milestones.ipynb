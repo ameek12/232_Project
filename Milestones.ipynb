{
 "cells": [
  {
   "attachments": {},
   "cell_type": "markdown",
   "id": "792bb169-db52-47f6-a9bf-e27bd9de58ef",
   "metadata": {},
   "source": [
    "# __Milestone 1: Abstract/Dataset__\n",
    "In 2020, COVID-19 (coronavirus) spread rapidly throughout the world. The global pandemic—triggered by severe acute respiratory syndrome coronavirus 2 (SARS-CoV-2)—impacted every facet of daily life. During the pandemic, people found themselves in unchartered territory. No longer could we go out in public without first taking certain precautions. Wearing masks, social distancing, and telecommunicating became the norm. While new health technologies emerged from the pandemic, the pandemic also led to the loss of around 23 million jobs by April 1, 2020 according to a report published by Georgetown University.  Using data derived from Greenwich.HR daily US hiring (a public-facing site hosted by Greenwich) and HR and OneModel, Inc. (a site which continuously tracks online job listings calculated daily and published nightly), our project will explore factors leading to job loss during and following the pandemic. We will employ both supervised and unsupervised techniques as part of the analysis. Additionally, we will use regression analysis to predict economic indicators like unemployment rates, job openings, and salaries based on the time since the pandemic started. Regression analysis will also be used to predict the number of job losses based on various features in the dataset. Finally, we will employ unsupervised techniques such as clustering to identify clusters of similar job roles."
   ]
  },
  {
   "attachments": {},
   "cell_type": "markdown",
   "id": "71046d19-a3f9-469f-8394-c364993f382f",
   "metadata": {},
   "source": [
    "# __Milestone 2: Data Preprocessing (Data Exploration)__\n"
   ]
  },
  {
   "attachments": {},
   "cell_type": "markdown",
   "id": "b2543f29-b908-48dc-aa9b-22d62eea15ed",
   "metadata": {},
   "source": [
    "# __Milestone 3: Normalizing Data, Nulls, one hot encoding__"
   ]
  },
  {
   "attachments": {},
   "cell_type": "markdown",
   "id": "0b9e30af-5442-44da-b3c4-0950a4212e15",
   "metadata": {},
   "source": [
    "# __Milestone 4: Develop and Deploy Machine Learning Models__"
   ]
  },
  {
   "attachments": {},
   "cell_type": "markdown",
   "id": "9ecb846a-b51b-4f23-81ec-670a9196d67f",
   "metadata": {},
   "source": [
    "# __Milestone 5: Model Evaluations ie Results and Conclusions__ "
   ]
  }
 ],
 "metadata": {
  "kernelspec": {
   "display_name": "Python 3 (ipykernel)",
   "language": "python",
   "name": "python3"
  },
  "language_info": {
   "codemirror_mode": {
    "name": "ipython",
    "version": 3
   },
   "file_extension": ".py",
   "mimetype": "text/x-python",
   "name": "python",
   "nbconvert_exporter": "python",
   "pygments_lexer": "ipython3",
   "version": "3.10.9"
  }
 },
 "nbformat": 4,
 "nbformat_minor": 5
}
