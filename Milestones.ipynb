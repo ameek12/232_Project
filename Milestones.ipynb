{
 "cells": [
  {
   "attachments": {},
   "cell_type": "markdown",
   "id": "792bb169-db52-47f6-a9bf-e27bd9de58ef",
   "metadata": {},
   "source": [
    "# __Milestone 1: Abstract/Dataset__\n",
    "Air Pollution Analysis \n",
    "According to the United Nations, the last decade (2011-2020) was the warmest on record. In fact, the last four decades have been hotter than any previous decade since 1850. The Environmental Protection Agency has noted that emissions of air pollutants and greenhouse gases can result in changes to the climate. Ozone in the atmosphere causes the climate to warm, while various components of particulate matter (PM) can either warm or cool the climate. This project will explore the features of air pollution from sensors with data provided by OpenAQ, a nonprofit organization providing access to air quality data. We will employ supervised and unsupervised learning techniques. We will also use regression models to predict the type of pollutants from given features. Finally, we will apply clustering algorithms to cluster locations with similar pollution levels. "
   ]
  },
  {
   "attachments": {},
   "cell_type": "markdown",
   "id": "fb9c701c",
   "metadata": {},
   "source": [
    "Dataset: https://registry.opendata.aws/openaq/\n",
    "This data aggregates global physical air quality data from public sources provided by government and research-grade institutions. "
   ]
  },
  {
   "attachments": {},
   "cell_type": "markdown",
   "id": "71046d19-a3f9-469f-8394-c364993f382f",
   "metadata": {},
   "source": [
    "# __Milestone 2: Data Preprocessing (Data Exploration)__\n"
   ]
  },
  {
   "attachments": {},
   "cell_type": "markdown",
   "id": "b2543f29-b908-48dc-aa9b-22d62eea15ed",
   "metadata": {},
   "source": [
    "# __Milestone 3: Normalizing Data, Nulls, one hot encoding__"
   ]
  },
  {
   "attachments": {},
   "cell_type": "markdown",
   "id": "0b9e30af-5442-44da-b3c4-0950a4212e15",
   "metadata": {},
   "source": [
    "# __Milestone 4: Develop and Deploy Machine Learning Models__"
   ]
  },
  {
   "attachments": {},
   "cell_type": "markdown",
   "id": "9ecb846a-b51b-4f23-81ec-670a9196d67f",
   "metadata": {},
   "source": [
    "# __Milestone 5: Model Evaluations ie Results and Conclusions__ "
   ]
  }
 ],
 "metadata": {
  "kernelspec": {
   "display_name": "Python 3 (ipykernel)",
   "language": "python",
   "name": "python3"
  },
  "language_info": {
   "codemirror_mode": {
    "name": "ipython",
    "version": 3
   },
   "file_extension": ".py",
   "mimetype": "text/x-python",
   "name": "python",
   "nbconvert_exporter": "python",
   "pygments_lexer": "ipython3",
   "version": "3.10.9"
  }
 },
 "nbformat": 4,
 "nbformat_minor": 5
}
