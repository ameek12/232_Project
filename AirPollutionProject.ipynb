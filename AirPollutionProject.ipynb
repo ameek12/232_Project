{
 "cells": [
  {
   "cell_type": "markdown",
   "metadata": {},
   "source": [
    "## OpenAQ API\n",
    "\n",
    "- From the OpenAQ API, download a list of reference grade location_ids using the 'us' country code"
   ]
  },
  {
   "cell_type": "code",
   "execution_count": null,
   "metadata": {},
   "outputs": [],
   "source": [
    "import requests\n",
    "import json\n",
    "\n",
    "# get reference grade sensors in the United States\n",
    "url = \"https://api.openaq.org/v2/locations?limit=4000&page=1&offset=0&sort=desc&country=US&order_by=lastUpdated&sensor_type=reference%20grade&dump_raw=false\"\n",
    "\n",
    "headers = {\n",
    "    'accept': 'application/json'\n",
    "}\n",
    "\n",
    "api_data = requests.get(url, headers=headers).json()\n",
    "\n",
    "# get all location ids\n",
    "location_ids = []\n",
    "for i in api_data[\"results\"]:\n",
    "    if i['isMobile'] == False:\n",
    "        location_ids.append(i[\"id\"])"
   ]
  },
  {
   "cell_type": "markdown",
   "metadata": {},
   "source": [
    "## Downloading the OpenAQ data from AWS"
   ]
  },
  {
   "cell_type": "code",
   "execution_count": null,
   "metadata": {},
   "outputs": [],
   "source": [
    "import boto3\n",
    "from botocore import UNSIGNED\n",
    "from botocore.config import Config\n",
    "\n",
    "import pandas as pd\n",
    "import csv\n",
    "import gzip\n",
    "import os\n",
    "\n",
    "import concurrent.futures\n",
    "from tqdm import tqdm\n",
    "\n",
    "s3 = boto3.client('s3', config=Config(signature_version=UNSIGNED))\n",
    "\n",
    "#----- Functions -----\n",
    "def download_and_process_files(key):\n",
    "    # download object from S3\n",
    "    # print(f'Downloading {key}')\n",
    "    obj = s3.get_object(Bucket=bucket_name, Key=key)\n",
    "\n",
    "    # unzip and store in dataframe\n",
    "    try:\n",
    "        with gzip.open(obj['Body'], 'rb') as f:\n",
    "            df = pd.read_csv(f)\n",
    "        return df\n",
    "    except Exception as e:\n",
    "        print(f'Error in Gzip process: {e}')\n",
    "# --------------------\n",
    "\n",
    "# OpenAQ bucket name and base path\n",
    "bucket_name = 'openaq-data-archive'\n",
    "base_s3_path = 'records/csv.gz'\n",
    "\n",
    "# location of CSV with location IDs\n",
    "location_ids_csv = './location_ids.csv'\n",
    "\n",
    "# parquet output path\n",
    "parquet_path = 'G:/_data'\n",
    "\n",
    "# number of workers used to download from S3 in parallel\n",
    "num_workers = 200\n",
    "\n",
    "location_ids = []\n",
    "\n",
    "with open(location_ids_csv, 'r') as f:\n",
    "    reader = csv.reader(f)\n",
    "    for row in reader:\n",
    "        location_ids.append(row[0])\n",
    "\n",
    "for i in range(len(location_ids)):\n",
    "\n",
    "    location_id = location_ids[i]\n",
    "\n",
    "    # check for existing local file\n",
    "    if os.path.exists(f'{parquet_path}/{location_id}.parquet'):\n",
    "        print(f'Location {location_id} [{i + 1}/{len(location_ids)}] : Already downloaded')\n",
    "        continue\n",
    "\n",
    "    # set S3 path\n",
    "    s3_path = f'{base_s3_path}/locationid={location_id}'\n",
    "\n",
    "    # init pagination variables\n",
    "    continuation_token = None\n",
    "    s3_files = []\n",
    "\n",
    "    # paginate through the objects\n",
    "    while True:\n",
    "        if continuation_token:\n",
    "            response = s3.list_objects_v2(Bucket=bucket_name, Prefix=s3_path, ContinuationToken=continuation_token)\n",
    "        else:\n",
    "            response = s3.list_objects_v2(Bucket=bucket_name, Prefix=s3_path)\n",
    "\n",
    "        s3_files.extend([obj['Key'] for obj in response.get('Contents', [])])\n",
    "        \n",
    "        if 'NextContinuationToken' in response:\n",
    "            continuation_token = response['NextContinuationToken']\n",
    "        else:\n",
    "            break\n",
    "\n",
    "    # finished grabbing list of files for this location, print number of files\n",
    "    print(f'Location {location_id} [{i + 1}/{len(location_ids)}] : {len(s3_files)} files')\n",
    "\n",
    "    # download objects in parallel, using tqdm to track progress\n",
    "    with concurrent.futures.ThreadPoolExecutor(max_workers=num_workers) as executor:\n",
    "        dataframes = list(tqdm(executor.map(download_and_process_files, s3_files), total=len(s3_files)))\n",
    "\n",
    "    # write Parquet file\n",
    "    try:\n",
    "        parquet_file = f'{parquet_path}/{location_id}.parquet'\n",
    "        print(f'Writing Parquet file: {parquet_file}')\n",
    "        pd.concat(dataframes, ignore_index=True).to_parquet(parquet_file, engine='pyarrow', index=False)\n",
    "    except Exception as e:\n",
    "        print(f'Error writing Parquet file: {e}')"
   ]
  },
  {
   "cell_type": "markdown",
   "metadata": {},
   "source": [
    "## Local\n"
   ]
  },
  {
   "cell_type": "code",
   "execution_count": 2,
   "metadata": {},
   "outputs": [],
   "source": [
    "import numpy as np\n",
    "import pandas as pd\n",
    "import os\n",
    "import sys\n",
    "\n",
    "import reverse_geocoder as rg\n",
    "import matplotlib.pyplot as plt\n",
    "\n",
    "import pyspark.sql.functions as F\n",
    "import pyspark.sql.types as T\n",
    "\n",
    "os.environ[\"PYSPARK_PYTHON\"] = sys.executable\n",
    "os.environ[\"PYSPARK_DRIVER_PYTHON\"] = sys.executable\n",
    "\n",
    "from pyspark.sql import SparkSession\n",
    "spark = SparkSession.builder \\\n",
    "    .config(\"spark.driver.memory\", \"8g\") \\\n",
    "    .config(\"spark.executor.memory\", \"4g\") \\\n",
    "    .config(\"spark.executor.cores\", \"6\") \\\n",
    "    .getOrCreate()"
   ]
  },
  {
   "cell_type": "markdown",
   "metadata": {},
   "source": [
    "## SDSC"
   ]
  },
  {
   "cell_type": "code",
   "execution_count": null,
   "metadata": {},
   "outputs": [],
   "source": [
    "# Importing libraries\n",
    "import numpy as np \n",
    "import pandas as pd \n",
    "import os\n",
    "import sys\n",
    "from pyspark.sql import SparkSession\n",
    "from pyspark.sql import SparkSession\n",
    "\n",
    "import pyspark.sql.functions as F\n",
    "import pyspark.sql.types as T\n",
    "import reverse_geocoder as rg\n",
    "\n",
    "os.environ[\"PYSPARK_PYTHON\"] = sys.executable\n",
    "os.environ[\"PYSPARK_DRIVER_PYTHON\"] = sys.executable\n",
    "\n",
    "\n",
    "# Creating a spark session\n",
    "# SDSC limits: 128 executors, 250 GB memory\n",
    "# This config is for 30 cores, 240 GB memory:\n",
    "spark = SparkSession.builder \\\n",
    "    .config(\"spark.driver.memory\", \"8g\") \\\n",
    "    .config(\"spark.executor.memory\", \"8g\")\\\n",
    "    .config('spark.executor.instances', 29) \\\n",
    "    .getOrCreate()"
   ]
  },
  {
   "cell_type": "markdown",
   "metadata": {},
   "source": [
    "## Load Parquet files"
   ]
  },
  {
   "cell_type": "code",
   "execution_count": 3,
   "metadata": {},
   "outputs": [],
   "source": [
    "# load parquet files\n",
    "parquet_path = 'G:\\\\_data'\n",
    "df = spark.read.parquet(parquet_path)"
   ]
  },
  {
   "cell_type": "code",
   "execution_count": 4,
   "metadata": {},
   "outputs": [
    {
     "data": {
      "text/plain": [
       "165618329"
      ]
     },
     "execution_count": 4,
     "metadata": {},
     "output_type": "execute_result"
    }
   ],
   "source": [
    "# count rows\n",
    "df.count()"
   ]
  },
  {
   "cell_type": "code",
   "execution_count": 5,
   "metadata": {},
   "outputs": [
    {
     "name": "stdout",
     "output_type": "stream",
     "text": [
      "root\n",
      " |-- location_id: long (nullable = true)\n",
      " |-- sensors_id: long (nullable = true)\n",
      " |-- location: string (nullable = true)\n",
      " |-- datetime: string (nullable = true)\n",
      " |-- lat: double (nullable = true)\n",
      " |-- lon: double (nullable = true)\n",
      " |-- parameter: string (nullable = true)\n",
      " |-- units: string (nullable = true)\n",
      " |-- value: double (nullable = true)\n",
      " |-- lat.1: double (nullable = true)\n",
      " |-- lon.1: double (nullable = true)\n",
      "\n"
     ]
    }
   ],
   "source": [
    "# show schema\n",
    "df.printSchema()"
   ]
  },
  {
   "cell_type": "markdown",
   "metadata": {},
   "source": [
    "## Preprocessing Data"
   ]
  },
  {
   "cell_type": "markdown",
   "metadata": {},
   "source": [
    "### Drop unused columns\n",
    "\n",
    "Some source files have errant lat.1 and lon.1 columns. They are all NULL for all rows, and can be safely dropped."
   ]
  },
  {
   "cell_type": "code",
   "execution_count": 6,
   "metadata": {},
   "outputs": [],
   "source": [
    "# drop lat.1 and lon.1\n",
    "df = df.drop('lat.1', 'lon.1')"
   ]
  },
  {
   "cell_type": "markdown",
   "metadata": {},
   "source": [
    "### Checking for NULLs"
   ]
  },
  {
   "cell_type": "code",
   "execution_count": 7,
   "metadata": {},
   "outputs": [
    {
     "name": "stdout",
     "output_type": "stream",
     "text": [
      "+-----------+----------+--------+--------+---+---+---------+-----+-----+\n",
      "|location_id|sensors_id|location|datetime|lat|lon|parameter|units|value|\n",
      "+-----------+----------+--------+--------+---+---+---------+-----+-----+\n",
      "|          0|         0|  208533|       0|  0|  0|   104232|    0|    0|\n",
      "+-----------+----------+--------+--------+---+---+---------+-----+-----+\n",
      "\n"
     ]
    }
   ],
   "source": [
    "# Are there any null values? \n",
    "from pyspark.sql.functions import isnan, when, count, col\n",
    "\n",
    "df.select(*(count(when(col(c).isNull(), c)).alias(c) for c in df.columns)).show()"
   ]
  },
  {
   "cell_type": "markdown",
   "metadata": {},
   "source": [
    "#### Drop NULLs"
   ]
  },
  {
   "cell_type": "code",
   "execution_count": 8,
   "metadata": {},
   "outputs": [],
   "source": [
    "# remove nulls from chosen columns\n",
    "df = df.na.drop(subset=['location_id', 'location', 'value', 'parameter'])"
   ]
  },
  {
   "cell_type": "markdown",
   "metadata": {},
   "source": [
    "### Checking for values below 0"
   ]
  },
  {
   "cell_type": "markdown",
   "metadata": {},
   "source": [
    "The value of a particular parameter should not be zero. Since these measurements are measures of mass in a given volume of air, the concept of negative mass wouldn't make sense and therefore the readings form the sensor should not be negative. This indicates there could be sensor malfunctions, ie. software or calibration errors."
   ]
  },
  {
   "cell_type": "code",
   "execution_count": 16,
   "metadata": {},
   "outputs": [
    {
     "data": {
      "text/plain": [
       "3340812"
      ]
     },
     "execution_count": 16,
     "metadata": {},
     "output_type": "execute_result"
    }
   ],
   "source": [
    "df.filter(F.col(\"value\") < 0).count()"
   ]
  },
  {
   "cell_type": "code",
   "execution_count": 17,
   "metadata": {},
   "outputs": [
    {
     "name": "stdout",
     "output_type": "stream",
     "text": [
      "+-----------+----------+--------------+--------------------+-------+--------+---------+-----+------+\n",
      "|location_id|sensors_id|      location|            datetime|    lat|     lon|parameter|units| value|\n",
      "+-----------+----------+--------------+--------------------+-------+--------+---------+-----+------+\n",
      "|        225|      3619|New Albany-225|2018-04-19T01:00:...|38.3081|-85.8342|      so2|  ppm|-0.001|\n",
      "|        225|      3619|New Albany-225|2018-04-23T11:00:...|38.3081|-85.8342|      so2|  ppm|-0.001|\n",
      "|        225|      3619|New Albany-225|2018-04-23T14:00:...|38.3081|-85.8342|      so2|  ppm|-0.001|\n",
      "|        225|      3619|New Albany-225|2018-04-23T20:00:...|38.3081|-85.8342|      so2|  ppm|-0.001|\n",
      "|        225|      3619|New Albany-225|2018-04-24T12:00:...|38.3081|-85.8342|      so2|  ppm|-0.001|\n",
      "|        225|      3619|New Albany-225|2018-04-24T13:00:...|38.3081|-85.8342|      so2|  ppm|-0.001|\n",
      "|        225|      3619|New Albany-225|2018-04-25T10:00:...|38.3081|-85.8342|      so2|  ppm|-0.001|\n",
      "|        225|      3619|New Albany-225|2018-04-25T16:00:...|38.3081|-85.8342|      so2|  ppm|-0.001|\n",
      "|        225|      3619|New Albany-225|2018-04-27T01:00:...|38.3081|-85.8342|      so2|  ppm|-0.001|\n",
      "|        225|      3619|New Albany-225|2018-04-27T03:00:...|38.3081|-85.8342|      so2|  ppm|-0.001|\n",
      "|        225|      3619|New Albany-225|2018-04-28T20:00:...|38.3081|-85.8342|      so2|  ppm|-0.001|\n",
      "|        225|      3619|New Albany-225|2018-05-01T04:00:...|38.3081|-85.8342|      so2|  ppm|-0.001|\n",
      "|        225|      3619|New Albany-225|2018-05-05T17:00:...|38.3081|-85.8342|      so2|  ppm|-0.001|\n",
      "|        225|      3619|New Albany-225|2018-05-06T07:00:...|38.3081|-85.8342|      so2|  ppm|-0.001|\n",
      "|        225|      3619|New Albany-225|2018-08-23T23:00:...|38.3081|-85.8342|      so2|  ppm|-0.001|\n",
      "|        225|      3619|New Albany-225|2018-08-24T00:00:...|38.3081|-85.8342|      so2|  ppm|-0.001|\n",
      "|        225|      3619|New Albany-225|2018-08-24T01:00:...|38.3081|-85.8342|      so2|  ppm|-0.001|\n",
      "|        225|      3619|New Albany-225|2018-08-24T02:00:...|38.3081|-85.8342|      so2|  ppm|-0.001|\n",
      "|        225|      3619|New Albany-225|2018-08-24T03:00:...|38.3081|-85.8342|      so2|  ppm|-0.001|\n",
      "|        225|      3619|New Albany-225|2018-08-24T04:00:...|38.3081|-85.8342|      so2|  ppm|-0.001|\n",
      "+-----------+----------+--------------+--------------------+-------+--------+---------+-----+------+\n",
      "only showing top 20 rows\n",
      "\n"
     ]
    }
   ],
   "source": [
    "# Look at the dataframe of where the value is less than 0.\n",
    "# Filter the DataFrame\n",
    "value_less_0_df = df.filter(F.col(\"value\") < 0)\n",
    "value_less_0_df.show()"
   ]
  },
  {
   "cell_type": "markdown",
   "metadata": {},
   "source": [
    "#### Drop rows with Value 0 or less"
   ]
  },
  {
   "cell_type": "code",
   "execution_count": 9,
   "metadata": {},
   "outputs": [],
   "source": [
    "# keep only values > 0\n",
    "df = df.filter(F.col(\"value\") > 0)"
   ]
  },
  {
   "cell_type": "markdown",
   "metadata": {},
   "source": [
    "### Looking at data with PySpark SQL"
   ]
  },
  {
   "cell_type": "code",
   "execution_count": 10,
   "metadata": {},
   "outputs": [],
   "source": [
    "# Creating a temporary table to use with PySpark SQL\n",
    "df.createOrReplaceTempView('pollution')"
   ]
  },
  {
   "cell_type": "code",
   "execution_count": 11,
   "metadata": {},
   "outputs": [
    {
     "name": "stdout",
     "output_type": "stream",
     "text": [
      "+---------------+\n",
      "|Parameter_Count|\n",
      "+---------------+\n",
      "|             21|\n",
      "+---------------+\n",
      "\n"
     ]
    }
   ],
   "source": [
    "# Looking at the different number of parameters in the dataset\n",
    "results = spark.sql(\"SELECT count(distinct parameter) as Parameter_Count \\\n",
    "                    FROM pollution\")\n",
    "results.show()"
   ]
  },
  {
   "cell_type": "code",
   "execution_count": 23,
   "metadata": {},
   "outputs": [
    {
     "name": "stdout",
     "output_type": "stream",
     "text": [
      "+-----------+----------+------------+\n",
      "|location_id|sensors_id|Sensor_Count|\n",
      "+-----------+----------+------------+\n",
      "|        193|       321|         241|\n",
      "|        193|       320|       47521|\n",
      "|        194|       322|         669|\n",
      "|        194|       323|         606|\n",
      "|        195|       326|         296|\n",
      "|        195|       324|         645|\n",
      "|        195|       325|       46130|\n",
      "|        195|       453|         367|\n",
      "|        196|       331|         822|\n",
      "|        197|       335|         837|\n",
      "|        198|       336|         833|\n",
      "|        199|       337|         304|\n",
      "|        199|       339|       42500|\n",
      "|        200|       340|         831|\n",
      "|        203|       344|         819|\n",
      "|        204|       345|         802|\n",
      "|        204|       346|         556|\n",
      "|        205|       348|         818|\n",
      "|        205|       347|         809|\n",
      "|        206|       349|         811|\n",
      "+-----------+----------+------------+\n",
      "only showing top 20 rows\n",
      "\n"
     ]
    }
   ],
   "source": [
    "# Looking at the sensor counts for each location. \n",
    "results = spark.sql(\"SELECT location_id, sensors_id, count(sensors_id) as Sensor_Count \\\n",
    "                    FROM pollution \\\n",
    "                    GROUP BY location_id, sensors_id \\\n",
    "                    ORDER BY location_id\")\n",
    "results.show()"
   ]
  },
  {
   "cell_type": "code",
   "execution_count": 24,
   "metadata": {},
   "outputs": [
    {
     "name": "stdout",
     "output_type": "stream",
     "text": [
      "+-----------+---------+----------+\n",
      "|location_id|parameter|sensors_id|\n",
      "+-----------+---------+----------+\n",
      "|     225038|    um050|   5179853|\n",
      "|     225220|      pm1|   1302554|\n",
      "|     225367|    um025|   1303255|\n",
      "|     225496|       o3|   1303870|\n",
      "|     225425|       co|   1303622|\n",
      "|     225452|      so2|   1303572|\n",
      "|     225467|     pm10|   1303469|\n",
      "|     225675|       co|   2009803|\n",
      "|     225682|     pm25|   1304111|\n",
      "|     225731|      no2|   1304501|\n",
      "|     225807|     pm25|   7771087|\n",
      "|     225822|    um100|   1304802|\n",
      "|     225957|    um050|   5209879|\n",
      "|     225958|     pm25|   1305288|\n",
      "|     225994|    um010|   1305495|\n",
      "|     225025|    um010|   1301667|\n",
      "|     225091|    um005|   5236884|\n",
      "|     225218|     pm25|   1302547|\n",
      "|     225316|    um025|   1302981|\n",
      "|     225325|     pm10|   1303039|\n",
      "+-----------+---------+----------+\n",
      "only showing top 20 rows\n",
      "\n"
     ]
    }
   ],
   "source": [
    "# Looking at the different number of parameters in the dataset\n",
    "results = spark.sql(\"SELECT DISTINCT location_id, parameter, sensors_id\\\n",
    "                    FROM pollution\")\n",
    "results.show()"
   ]
  },
  {
   "cell_type": "markdown",
   "metadata": {},
   "source": [
    "### WHO air quality guidelines recommend a maximum exposure of 20 µg/m3 for PM10, 35 µg/m3 for PM2.5, and 0.070 parts per million for O3\n",
    "\n",
    "#### Find the data in the maximum polluted thresholds"
   ]
  },
  {
   "cell_type": "code",
   "execution_count": 26,
   "metadata": {},
   "outputs": [
    {
     "name": "stdout",
     "output_type": "stream",
     "text": [
      "+-----------+----------+--------------+--------------------+-------+--------+---------+-----+-----+\n",
      "|location_id|sensors_id|      location|            datetime|    lat|     lon|parameter|units|value|\n",
      "+-----------+----------+--------------+--------------------+-------+--------+---------+-----+-----+\n",
      "|        225|      3618|New Albany-225|2016-04-17T15:00:...|38.3081|-85.8342|       o3|  ppm|0.071|\n",
      "|        225|      3618|New Albany-225|2016-04-19T15:00:...|38.3081|-85.8342|       o3|  ppm|0.071|\n",
      "|        225|      3618|New Albany-225|2016-04-20T14:00:...|38.3081|-85.8342|       o3|  ppm|0.078|\n",
      "|        225|      3618|New Albany-225|2016-04-20T15:00:...|38.3081|-85.8342|       o3|  ppm|0.083|\n",
      "|        225|      3618|New Albany-225|2016-04-20T16:00:...|38.3081|-85.8342|       o3|  ppm|0.081|\n",
      "|        225|      3618|New Albany-225|2016-05-31T15:00:...|38.3081|-85.8342|       o3|  ppm|0.076|\n",
      "|        225|      3618|New Albany-225|2016-06-01T12:00:...|38.3081|-85.8342|       o3|  ppm|0.071|\n",
      "|        225|      3618|New Albany-225|2016-06-09T15:00:...|38.3081|-85.8342|       o3|  ppm|0.075|\n",
      "|        225|      3618|New Albany-225|2016-06-09T16:00:...|38.3081|-85.8342|       o3|  ppm|0.076|\n",
      "|        225|      3618|New Albany-225|2016-06-09T17:00:...|38.3081|-85.8342|       o3|  ppm|0.078|\n",
      "|        225|      3618|New Albany-225|2016-06-09T18:00:...|38.3081|-85.8342|       o3|  ppm|0.077|\n",
      "|        225|      3618|New Albany-225|2016-06-09T19:00:...|38.3081|-85.8342|       o3|  ppm|0.072|\n",
      "|        225|      3618|New Albany-225|2016-06-10T13:00:...|38.3081|-85.8342|       o3|  ppm|0.072|\n",
      "|        225|      3618|New Albany-225|2016-06-10T14:00:...|38.3081|-85.8342|       o3|  ppm|0.075|\n",
      "|        225|      3618|New Albany-225|2016-06-10T15:00:...|38.3081|-85.8342|       o3|  ppm| 0.09|\n",
      "|        225|      3618|New Albany-225|2016-06-10T16:00:...|38.3081|-85.8342|       o3|  ppm|0.092|\n",
      "|        225|      3618|New Albany-225|2016-06-10T17:00:...|38.3081|-85.8342|       o3|  ppm|0.088|\n",
      "|        225|      3618|New Albany-225|2016-06-10T18:00:...|38.3081|-85.8342|       o3|  ppm| 0.08|\n",
      "|        225|      3618|New Albany-225|2016-06-10T19:00:...|38.3081|-85.8342|       o3|  ppm|0.077|\n",
      "|        225|      3618|New Albany-225|2016-06-11T15:00:...|38.3081|-85.8342|       o3|  ppm|0.076|\n",
      "+-----------+----------+--------------+--------------------+-------+--------+---------+-----+-----+\n",
      "only showing top 20 rows\n",
      "\n"
     ]
    }
   ],
   "source": [
    "## Find the data in the polluted thresholds\n",
    "results = spark.sql(\"SELECT * \\\n",
    "                    FROM pollution \\\n",
    "                    WHERE (parameter = 'pm10' AND value > 150) OR (parameter = 'pm25' AND value > 12) OR (parameter = 'o3' AND value > 0.07)\")\n",
    "results.show()\n",
    "# Could gather insights about what the most polluted areas are "
   ]
  },
  {
   "cell_type": "markdown",
   "metadata": {},
   "source": [
    "#### Average Value per measurement for day of the year for each sensor \n"
   ]
  },
  {
   "cell_type": "code",
   "execution_count": 42,
   "metadata": {},
   "outputs": [
    {
     "name": "stdout",
     "output_type": "stream",
     "text": [
      "+-----------+----------+----------+---------+--------------------+\n",
      "|location_id|  datetime|sensors_id|parameter|           avg_value|\n",
      "+-----------+----------+----------+---------+--------------------+\n",
      "|        225|2016-05-04|      3619|      so2|0.001250000000000...|\n",
      "|        225|2016-10-08|      3618|       o3|            0.028375|\n",
      "|        225|2017-05-31|      3619|      so2|0.001047619047619048|\n",
      "|        225|2017-11-14|      3619|      so2|              0.0015|\n",
      "|        225|2018-01-01|      3618|       o3| 0.03016666666666667|\n",
      "|        225|2018-07-11|      3619|      so2|0.001272727272727...|\n",
      "|        225|2018-07-25|      3618|       o3| 0.02878260869565218|\n",
      "|        225|2018-09-08|      3618|       o3|0.013750000000000004|\n",
      "|        225|2018-12-03|      3618|       o3| 0.01468181818181819|\n",
      "|        225|2019-01-22|      3619|      so2|0.001222222222222...|\n",
      "|        225|2019-04-14|      3619|      so2|0.001000000000000...|\n",
      "|        225|2019-10-10|      3619|      so2|0.002166666666666668|\n",
      "|        225|2020-01-30|      3619|      so2|0.001000000000000...|\n",
      "|        225|2021-06-01|      3618|       o3|0.021000000000000008|\n",
      "|        225|2021-10-20|      3618|       o3|0.020947368421052628|\n",
      "|        225|2021-11-18|      3618|       o3|0.021913043478260875|\n",
      "|        225|2021-11-22|      3619|      so2|               0.001|\n",
      "|        225|2022-09-30|      3618|       o3| 0.02008333333333333|\n",
      "|        225|2022-10-26|      3619|      so2|6.624999999999999E-4|\n",
      "|        225|2022-11-05|      3619|      so2| 7.52173913043478E-4|\n",
      "+-----------+----------+----------+---------+--------------------+\n",
      "only showing top 20 rows\n",
      "\n"
     ]
    }
   ],
   "source": [
    "results = spark.sql(\"SELECT location_id, date(datetime), sensors_id, parameter, AVG(value) AS avg_value \\\n",
    "                    FROM pollution \\\n",
    "                    GROUP BY parameter, sensors_id, \\\n",
    "                    date(datetime), \\\n",
    "                    location_id\")\n",
    "results.show()"
   ]
  },
  {
   "cell_type": "markdown",
   "metadata": {},
   "source": [
    "### Filter out Latitude = Longitude\n",
    "\n",
    "Some rows are for locations that have the exact same longitude and latitude, which shouldn't be.\n",
    "\n",
    "The names of these places are often for locations not in the US. We'll filter them out.  "
   ]
  },
  {
   "cell_type": "code",
   "execution_count": 12,
   "metadata": {},
   "outputs": [
    {
     "name": "stdout",
     "output_type": "stream",
     "text": [
      "Number of rows where lat and long are the same: 7353993\n",
      "+--------------+---------+---------+\n",
      "|      location|      lat|      lon|\n",
      "+--------------+---------+---------+\n",
      "|EH1F022-237357|4.3268808|4.3268808|\n",
      "+--------------+---------+---------+\n",
      "\n"
     ]
    }
   ],
   "source": [
    "# find rows where latitude and longitude are the exact same\n",
    "count_lat_long_same = df.filter(F.col('lat') == F.col('lon')).count()\n",
    "print(f'Number of rows where lat and long are the same: {count_lat_long_same}')\n",
    "\n",
    "# example\n",
    "df.filter(F.col('lat') == F.col('lon')).select('location', 'lat', 'lon').limit(1).show()\n",
    "\n",
    "# filter out rows where lat and lon are equal\n",
    "df = df.filter(F.col('lat') != F.col('lon'))"
   ]
  },
  {
   "cell_type": "markdown",
   "metadata": {},
   "source": [
    "### Pollutants and their Units\n",
    "\n",
    "- we'll examine the pollutants and their units, and remove some we aren't interested in.\n",
    "- we'll also align things like the PM25's µg/m³ units:  µ (micro sign, Unicode: U+00B5) and μ (Greek letter mu, Unicode: U+03BC) are different characters. "
   ]
  },
  {
   "cell_type": "code",
   "execution_count": 13,
   "metadata": {},
   "outputs": [
    {
     "name": "stdout",
     "output_type": "stream",
     "text": [
      "+----------------+-------------+--------+\n",
      "|       parameter|        units|   count|\n",
      "+----------------+-------------+--------+\n",
      "|            pm25|        μg/m³|   19877|\n",
      "|             no2|          ppb|   82077|\n",
      "|              bc|        µg/m³|  151549|\n",
      "|relativehumidity|            %|  170299|\n",
      "|             voc|          iaq|  271634|\n",
      "|             nox|          ppm|  435455|\n",
      "|              no|          ppm|  475816|\n",
      "|           um100|particles/cm³|  545981|\n",
      "|             nox|        µg/m³| 1199185|\n",
      "|           um050|particles/cm³| 1267610|\n",
      "|              co|        µg/m³| 1317566|\n",
      "|              no|        µg/m³| 1574084|\n",
      "|     temperature|            c| 2322397|\n",
      "|             so2|        µg/m³| 2767543|\n",
      "|             so2|          ppm| 3047723|\n",
      "|              co|          ppm| 3137804|\n",
      "|           um025|particles/cm³| 3648657|\n",
      "|     temperature|            f| 3876648|\n",
      "|             pm1|        µg/m³| 5220020|\n",
      "|           um010|particles/cm³| 5548547|\n",
      "|             no2|          ppm| 5681196|\n",
      "|        pressure|           mb| 5697256|\n",
      "|        humidity|            %| 5711599|\n",
      "|              o3|        µg/m³| 5806486|\n",
      "|           um005|particles/cm³| 5835207|\n",
      "|           um003|particles/cm³| 6032708|\n",
      "|             no2|        µg/m³| 9492679|\n",
      "|              o3|          ppm|10932726|\n",
      "|            pm10|        µg/m³|18379782|\n",
      "|            pm25|        µg/m³|22847563|\n",
      "+----------------+-------------+--------+\n",
      "\n"
     ]
    }
   ],
   "source": [
    "# get unique parameters and their units\n",
    "df_pollutants = df.groupBy('parameter', 'units').count().sort('count')\n",
    "df_pollutants.show(100)"
   ]
  },
  {
   "cell_type": "code",
   "execution_count": 14,
   "metadata": {},
   "outputs": [],
   "source": [
    "# drop some variants of pm25 we aren't interested in\n",
    "df = df.filter((F.col('parameter') != 'pm25') | (F.col('units') != 'ppm'))\n",
    "\n",
    "# any units of 'ppb' have scant rows\n",
    "df = df.filter(F.col('units') != 'ppb')\n",
    "\n",
    "# any rows with units of 'particles/cm3' we aren't interested in\n",
    "df = df.filter(F.col('units') != 'particles/cm³')\n",
    "\n",
    "# filter out some other pollutants we're not interested in\n",
    "df = df.filter(~F.col('parameter').isin(['pm25-old', 'ch4', 'bc', 'nox', 'voc', 'no', 'co2', 'pm4']))\n",
    "\n",
    "# align ug/m3 units\n",
    "# NOTE: the string values below for ug/m3 should not be touched, retyped, etc. The micro/mu are specific characters that look the same, but are different\n",
    "df = df.withColumn('units', F.when(F.col('units') == 'μg/m³', 'µg/m³').otherwise(F.col('units')))"
   ]
  },
  {
   "cell_type": "markdown",
   "metadata": {},
   "source": [
    "#### Convert Temperatures in C to F"
   ]
  },
  {
   "cell_type": "code",
   "execution_count": 15,
   "metadata": {},
   "outputs": [],
   "source": [
    "# convert temperatures with units C to F\n",
    "df = df.withColumn('value',\n",
    "    F.when((F.col('parameter') == 'temperature') & (F.col('units') == 'c'),\n",
    "        (F.col('value') * 1.8) + 32)\n",
    "        .otherwise(F.col('value')\n",
    "    )\n",
    ")\n",
    "\n",
    "# change all units to F when parameter is 'temperature'\n",
    "df = df.withColumn('units', F.when(F.col('parameter') == 'temperature', 'f').otherwise(F.col('units')))"
   ]
  },
  {
   "cell_type": "markdown",
   "metadata": {},
   "source": [
    "#### Change Pressure Units"
   ]
  },
  {
   "cell_type": "code",
   "execution_count": 16,
   "metadata": {},
   "outputs": [],
   "source": [
    "# 1 hectopascal equals 1 millibar, so we'll just change the units to mb\n",
    "df = df.withColumn('units', F.when(F.col('units') == 'hpa', 'mb').otherwise(F.col('units')))"
   ]
  },
  {
   "cell_type": "markdown",
   "metadata": {},
   "source": [
    "#### Convert units for some pollutants\n",
    "\n",
    "**NOTE**: skipping this for now. Conversions vary depending on factors, and for now we'll concetrate on rows with the proper units\n",
    "\n",
    "- for some pollutants, there are measurements in both ug/m3 and ppm\n",
    "- the AQI calculator (EPA algorithm) expects that pollutants have certain units:\n",
    "  - CO - ppm *\n",
    "  - NO2 - ppb *\n",
    "  - O3 - ppm *\n",
    "  - PM10 - ug/m3\n",
    "  - PM25 - ug/m3\n",
    "  - SO2 - ppb *\n",
    "- starred units need conversion in this dataset"
   ]
  },
  {
   "cell_type": "code",
   "execution_count": 17,
   "metadata": {},
   "outputs": [],
   "source": [
    "# TODO: from web research, the converions between ug/m3 and ppb can be quite different depending on temp and pressure, etc. For now, we'll just only use rows with the proper units.\n",
    "\n",
    "# get a few rows where parameter is 'co' and unit is 'ug/m3'\n",
    "# z = df.filter((F.col('parameter') == 'co') & (F.col('units') == 'µg/m³')).limit(5)\n",
    "\n",
    "# NOTE: For now, removing rows with improper units\n",
    "df = df.filter(~(F.col('parameter').isin(['co', 'no2', 'so2']) & (F.col('units') == 'µg/m³')))"
   ]
  },
  {
   "cell_type": "code",
   "execution_count": 18,
   "metadata": {},
   "outputs": [],
   "source": [
    "# convert no2 and so2 to ppb\n",
    "df = df.withColumn('value',\n",
    "    F.when(\n",
    "        (F.col('parameter').isin(['so2', 'no2'])) & (F.col('units') == 'ppm'),\n",
    "        F.col('value') * 1000)\n",
    "        .otherwise(F.col('value')\n",
    "    )\n",
    ")\n",
    "df = df.withColumn('units',\n",
    "    F.when(\n",
    "        (F.col('parameter').isin(['so2', 'no2'])) & (F.col('units') == 'ppm'),\n",
    "        'ppb')\n",
    "        .otherwise(F.col('units')\n",
    "    )\n",
    ")"
   ]
  },
  {
   "cell_type": "markdown",
   "metadata": {},
   "source": [
    "#### After this work on Parameters and Units, we'll create and cache the Pollutants for later use"
   ]
  },
  {
   "cell_type": "code",
   "execution_count": 19,
   "metadata": {},
   "outputs": [
    {
     "name": "stdout",
     "output_type": "stream",
     "text": [
      "+----------------+-----+\n",
      "|       parameter|units|\n",
      "+----------------+-----+\n",
      "|              co|  ppm|\n",
      "|        humidity|    %|\n",
      "|             no2|  ppb|\n",
      "|              o3|  ppm|\n",
      "|              o3|µg/m³|\n",
      "|             pm1|µg/m³|\n",
      "|            pm10|µg/m³|\n",
      "|            pm25|µg/m³|\n",
      "|        pressure|   mb|\n",
      "|relativehumidity|    %|\n",
      "|             so2|  ppb|\n",
      "|     temperature|    f|\n",
      "+----------------+-----+\n",
      "\n"
     ]
    }
   ],
   "source": [
    "df_pollutants = df.groupBy('parameter', 'units').count().drop('count').sort('parameter', 'units').cache()\n",
    "df_pollutants.show(100)"
   ]
  },
  {
   "cell_type": "markdown",
   "metadata": {},
   "source": [
    "#### Daily Averages\n",
    "\n",
    "- average rows per location, parameter, and day\n",
    "- i.e. average values for each unique combination of location, parameter, and date"
   ]
  },
  {
   "cell_type": "code",
   "execution_count": 20,
   "metadata": {},
   "outputs": [],
   "source": [
    "# convert datetime column to yyyy-mm-dd as 'date'\n",
    "df = df.withColumn('date', F.date_format(F.col('datetime'), 'yyyy-MM-dd'))\n",
    "\n",
    "# as we're averaging on day, we don't need the precision of the datetime column\n",
    "df = df.drop('datetime')\n",
    "\n",
    "# also don't need sensors_id or units column anymore\n",
    "df = df.drop('sensors_id', 'units')\n",
    "\n",
    "df = df.groupBy('location_id', 'parameter', 'date').agg(\n",
    "    F.first('location').alias('location'),\n",
    "    F.first('lat').alias('lat'),\n",
    "    F.first('lon').alias('lon'),\n",
    "    F.avg('value').alias('value')\n",
    ")"
   ]
  },
  {
   "cell_type": "markdown",
   "metadata": {},
   "source": [
    "#### Pivot Pollutants"
   ]
  },
  {
   "cell_type": "code",
   "execution_count": 21,
   "metadata": {},
   "outputs": [],
   "source": [
    "# pivot parameter column\n",
    "df = df.groupBy('location_id', 'location', 'date', 'lat', 'lon').pivot('parameter').agg(F.avg('value'))"
   ]
  },
  {
   "cell_type": "markdown",
   "metadata": {},
   "source": [
    "##### Drop rows where PM25 is null"
   ]
  },
  {
   "cell_type": "code",
   "execution_count": 22,
   "metadata": {},
   "outputs": [],
   "source": [
    "# drop rows where pm25 is null\n",
    "df = df.na.drop(subset=['pm25'])"
   ]
  },
  {
   "cell_type": "markdown",
   "metadata": {},
   "source": [
    "### Geocode\n",
    "\n",
    "We'll Geocode the latitude and longitude values to:\n",
    "\n",
    "- cull locations that aren't in the US\n",
    "- use the added categorical geographic information (State, City, etc) in analysis"
   ]
  },
  {
   "cell_type": "code",
   "execution_count": 24,
   "metadata": {},
   "outputs": [],
   "source": [
    "def geocode(locations_dict):\n",
    "    \n",
    "    # get list of lat, lon tuples from coords dict\n",
    "    coords = [(row['coords'][0], row['coords'][1]) for row in locations_dict.values()]\n",
    "\n",
    "    # reverse geocode\n",
    "    geocode_results = rg.search(coords)\n",
    "\n",
    "    geocode_results = [{'city': loc['name'], 'state': loc['admin1'], 'country_code': loc['cc']} for loc in geocode_results]\n",
    "    results = []\n",
    "    for (key, _), loc in zip(locations_dict.items(), geocode_results):\n",
    "        results.append((int(key), loc['city'], loc['state'], str.lower(loc['country_code'])))\n",
    "\n",
    "    return results\n",
    "\n",
    "# create a UDF with a map(string, string) return type (e.g. {country_code -> 'US'})\n",
    "geocode_udf = F.udf(geocode, T.MapType(T.StringType(), T.StringType()))"
   ]
  },
  {
   "cell_type": "code",
   "execution_count": 25,
   "metadata": {},
   "outputs": [
    {
     "name": "stdout",
     "output_type": "stream",
     "text": [
      "Loading formatted geocoded file...\n"
     ]
    }
   ],
   "source": [
    "# create dataframe of just distinct locations and their lat, lon\n",
    "locations = df.groupBy('location_id').agg(F.first('lat').alias('lat'), F.first('lon').alias('lon')).collect()\n",
    "\n",
    "# setup dictionary, where key is location_id, and value is a tuple of (lat, lon)\n",
    "locations = {row['location_id']: {'coords': (row['lat'], row['lon'])} for row in locations}\n",
    "\n",
    "# reverse geocode\n",
    "locations = geocode(locations)\n",
    "\n",
    "# create spark dataframe of results\n",
    "schema = T.StructType([\n",
    "    T.StructField('location_id', T.LongType(), True),\n",
    "    T.StructField('city', T.StringType(), True),\n",
    "    T.StructField('state', T.StringType(), True),\n",
    "    T.StructField('country_code', T.StringType(), True)\n",
    "])\n",
    "geocoded_df = spark.createDataFrame(locations, schema=schema)\n",
    "\n",
    "# join this dataframe with the original dataframe\n",
    "df = df.join(geocoded_df, on='location_id', how='left')"
   ]
  },
  {
   "cell_type": "markdown",
   "metadata": {},
   "source": [
    "#### Drop rows that aren't in the United States"
   ]
  },
  {
   "cell_type": "code",
   "execution_count": 26,
   "metadata": {},
   "outputs": [],
   "source": [
    "df = df.filter((F.col('country_code')) == 'us')"
   ]
  },
  {
   "cell_type": "markdown",
   "metadata": {},
   "source": [
    "### AQI Scores"
   ]
  },
  {
   "cell_type": "code",
   "execution_count": 28,
   "metadata": {},
   "outputs": [],
   "source": [
    "import aqi\n",
    "\n",
    "def calculate_aqi(pm10, pm25, co, no2, o3, so2):\n",
    "\n",
    "    try:\n",
    "        pollutants = []\n",
    "\n",
    "        pollutants.append((aqi.POLLUTANT_PM10, pm10)) if pm10 else None\n",
    "        pollutants.append((aqi.POLLUTANT_PM25, pm25)) if pm25 else None\n",
    "        pollutants.append((aqi.POLLUTANT_CO_8H, co)) if co else None\n",
    "        pollutants.append((aqi.POLLUTANT_NO2_1H, no2)) if no2 else None\n",
    "        pollutants.append((aqi.POLLUTANT_O3_8H, o3)) if o3 else None\n",
    "        pollutants.append((aqi.POLLUTANT_SO2_1H, so2)) if so2 else None\n",
    "\n",
    "        return(float(aqi.to_aqi(pollutants)))\n",
    "\n",
    "    except Exception as e:\n",
    "        return None\n",
    "# -------------------------------\n",
    "\n",
    "# register UDF\n",
    "aqi_udf = F.udf(calculate_aqi, T.FloatType())\n",
    "\n",
    "# add AQI column\n",
    "df = df.withColumn('aqi', aqi_udf(F.col('pm10'), F.col('pm25'), F.col('co'), F.col('no2'), F.col('o3'), F.col('so2')))"
   ]
  },
  {
   "cell_type": "code",
   "execution_count": 29,
   "metadata": {},
   "outputs": [],
   "source": [
    "def aqi_category(aqi_score):\n",
    "    if aqi_score is None:\n",
    "        return None\n",
    "    elif aqi_score <= 50:\n",
    "        return \"Good\"\n",
    "    elif aqi_score <= 100:\n",
    "        return \"Moderate\"\n",
    "    elif aqi_score <= 150:\n",
    "        return \"Unhealthy for Sensitive Groups\"\n",
    "    elif aqi_score <= 200:\n",
    "        return \"Unhealthy\"\n",
    "    elif aqi_score <= 300:\n",
    "        return \"Very Unhealthy\"\n",
    "    elif aqi_score > 300:\n",
    "        return \"Hazardous\"\n",
    "    else:\n",
    "        return None\n",
    "\n",
    "# register UDF\n",
    "aqi_category_udf = F.udf(aqi_category, T.StringType())\n",
    "\n",
    "df = df.withColumn(\"aqi_category\", aqi_category_udf(F.col(\"aqi\")))"
   ]
  },
  {
   "cell_type": "markdown",
   "metadata": {},
   "source": [
    "### Cache Dataframe"
   ]
  },
  {
   "cell_type": "code",
   "execution_count": 30,
   "metadata": {},
   "outputs": [
    {
     "data": {
      "text/plain": [
       "344569"
      ]
     },
     "execution_count": 30,
     "metadata": {},
     "output_type": "execute_result"
    }
   ],
   "source": [
    "df.cache()\n",
    "df.count()"
   ]
  },
  {
   "cell_type": "markdown",
   "metadata": {},
   "source": [
    "## Graphing some data"
   ]
  },
  {
   "cell_type": "code",
   "execution_count": 47,
   "metadata": {},
   "outputs": [
    {
     "name": "stdout",
     "output_type": "stream",
     "text": [
      "+---------------------+\n",
      "|location             |\n",
      "+---------------------+\n",
      "|Colorado College-1940|\n",
      "|Colorado College-1940|\n",
      "|Colorado College-1940|\n",
      "|Colorado College-1940|\n",
      "|Colorado College-1940|\n",
      "|Colorado College-1940|\n",
      "|Colorado College-1940|\n",
      "|Colorado College-1940|\n",
      "|Colorado College-1940|\n",
      "|Colorado College-1940|\n",
      "|Colorado College-1940|\n",
      "|Colorado College-1940|\n",
      "|Colorado College-1940|\n",
      "|Colorado College-1940|\n",
      "|Colorado College-1940|\n",
      "|Colorado College-1940|\n",
      "|Colorado College-1940|\n",
      "|Colorado College-1940|\n",
      "|Colorado College-1940|\n",
      "|Colorado College-1940|\n",
      "+---------------------+\n",
      "only showing top 20 rows\n",
      "\n"
     ]
    }
   ],
   "source": [
    "# for location 1940, print the location without truncating the name\n",
    "\n",
    "\n",
    "df.filter(df.location_id == 1940).select('location').show(truncate=False)"
   ]
  },
  {
   "cell_type": "code",
   "execution_count": 49,
   "metadata": {},
   "outputs": [],
   "source": [
    "# Filtering for location 222\n",
    "filtered_df = df.filter(df.location_id == 1940).orderBy(\"date\")"
   ]
  },
  {
   "cell_type": "code",
   "execution_count": 50,
   "metadata": {},
   "outputs": [],
   "source": [
    "# Selecting datetime and value for the graph\n",
    "pm25_data = filtered_df.select(\"date\", \"pm25\").collect()"
   ]
  },
  {
   "cell_type": "code",
   "execution_count": 51,
   "metadata": {},
   "outputs": [
    {
     "data": {
      "image/png": "[encoded data removed]",
      "text/plain": [
       "<Figure size 1000x500 with 1 Axes>"
      ]
     },
     "metadata": {},
     "output_type": "display_data"
    }
   ],
   "source": [
    "import matplotlib.pyplot as plt\n",
    "from datetime import datetime\n",
    "\n",
    "# Extracting separate lists of dates and values and plotting it\n",
    "dates = [datetime.strptime(data.date, \"%Y-%m-%d\") for data in pm25_data]\n",
    "values = [data.pm25 for data in pm25_data]\n",
    "\n",
    "plt.figure(figsize=(10, 5))\n",
    "plt.plot(dates, values, marker='o', linestyle='-', color='b')\n",
    "plt.title(\"PM25 Levels Over Time for Location 1940 (Colorado College)\")\n",
    "plt.xlabel(\"Date\")\n",
    "plt.ylabel(\"PM25 Value (µg/m³)\")\n",
    "plt.grid(True)\n",
    "plt.xticks(rotation=45)\n",
    "plt.tight_layout()  \n",
    "plt.show()"
   ]
  },
  {
   "cell_type": "markdown",
   "metadata": {},
   "source": [
    "## Model - K means clustering"
   ]
  },
  {
   "cell_type": "markdown",
   "metadata": {},
   "source": [
    "Need to address nulls. Options are:\n",
    "\n",
    "    1. drop rows with nulls\n",
    "    2. replace with mean/mode\n",
    "    3. KNN imputation, but requires 3rd party library outside of pyspark"
   ]
  },
  {
   "cell_type": "markdown",
   "metadata": {},
   "source": [
    "Need to address nulls. Options are:\n",
    "\n",
    "    1. drop rows with nulls\n",
    "    2. replace with mean/mode\n",
    "    3. KNN imputation, but requires 3rd party library outside of pyspark"
   ]
  },
  {
   "cell_type": "markdown",
   "metadata": {},
   "source": [
    "First, figuring out how many null values for each column"
   ]
  },
  {
   "cell_type": "code",
   "execution_count": 52,
   "metadata": {},
   "outputs": [
    {
     "name": "stdout",
     "output_type": "stream",
     "text": [
      "+-----------+--------+----+---+---+------+--------+------+------+------+------+----+--------+----------------+------+-----------+----+-----+------------+---+------------+\n",
      "|location_id|location|date|lat|lon|    co|humidity|   no2|    o3|   pm1|  pm10|pm25|pressure|relativehumidity|   so2|temperature|city|state|country_code|aqi|aqi_category|\n",
      "+-----------+--------+----+---+---+------+--------+------+------+------+------+----+--------+----------------+------+-----------+----+-----+------------+---+------------+\n",
      "|          0|       0|   0|  0|  0|285437|  331467|265034|178244|329295|266079|   0|  331504|          341958|308691|     326447|   0|    0|           0| 32|          32|\n",
      "+-----------+--------+----+---+---+------+--------+------+------+------+------+----+--------+----------------+------+-----------+----+-----+------------+---+------------+\n",
      "\n"
     ]
    }
   ],
   "source": [
    "from pyspark.sql.functions import isnan, when, count, col\n",
    "\n",
    "df.select(*(count(when(col(c).isNull(), c)).alias(c) for c in df.columns)).show()"
   ]
  },
  {
   "cell_type": "markdown",
   "metadata": {},
   "source": [
    "Many columns have over 1,000,000 nulls"
   ]
  },
  {
   "cell_type": "code",
   "execution_count": 53,
   "metadata": {},
   "outputs": [
    {
     "name": "stdout",
     "output_type": "stream",
     "text": [
      "+-----------+--------+----+----+----+-----+--------+-----+-----+-----+-----+----+--------+----------------+-----+-----------+----+-----+------------+----+------------+\n",
      "|location_id|location|date| lat| lon|   co|humidity|  no2|   o3|  pm1| pm10|pm25|pressure|relativehumidity|  so2|temperature|city|state|country_code| aqi|aqi_category|\n",
      "+-----------+--------+----+----+----+-----+--------+-----+-----+-----+-----+----+--------+----------------+-----+-----------+----+-----+------------+----+------------+\n",
      "|       0.00|    0.00|0.00|0.00|0.00|82.84|   96.20|76.92|51.73|95.57|77.22|0.00|   96.21|           99.24|89.59|      94.74|0.00| 0.00|        0.00|0.01|        0.01|\n",
      "+-----------+--------+----+----+----+-----+--------+-----+-----+-----+-----+----+--------+----------------+-----+-----------+----+-----+------------+----+------------+\n",
      "\n"
     ]
    }
   ],
   "source": [
    "from pyspark.sql.functions import format_number\n",
    "\n",
    "total_rows = df.count()\n",
    "percentage_of_null = df.select([(count(when(col(c).isNull(), c)) / total_rows * 100).alias(c) for c in df.columns])\n",
    "formatted_percentage = percentage_of_null.select([format_number(col(c), 2).alias(c) for c in percentage_of_null.columns])\n",
    "formatted_percentage.show()"
   ]
  },
  {
   "cell_type": "markdown",
   "metadata": {},
   "source": [
    "Dropping relativehumidity column since it has 99% nulls and filling other nulls with mean of column"
   ]
  },
  {
   "cell_type": "code",
   "execution_count": 54,
   "metadata": {},
   "outputs": [],
   "source": [
    "from pyspark.sql.functions import mean\n",
    "\n",
    "kmeans_df = df.drop('relativehumidity')\n",
    "# Calculate the mean for each column with potential nulls\n",
    "mean_values = kmeans_df.select([mean(col).alias(col) for col in [\"co\", \"humidity\", \"no2\", \"o3\", \"pm1\", \"pm10\", \"pm25\", \"pressure\",\"so2\", \"temperature\"]]).collect()[0]\n",
    "# Create a dictionary of mean values\n",
    "mean_dict = {col: mean_values[col] for col in mean_values.asDict()}\n",
    "# Fill nulls with the calculated mean values\n",
    "kmeans_df = kmeans_df.fillna(mean_dict)"
   ]
  },
  {
   "cell_type": "code",
   "execution_count": 55,
   "metadata": {},
   "outputs": [],
   "source": [
    "from pyspark.ml.feature import VectorAssembler\n",
    "from pyspark.ml.clustering import KMeans\n",
    "\n",
    "#assembling relevant columns into a vector\n",
    "assembler = VectorAssembler(\n",
    "    inputCols = [\"co\", \"humidity\", \"no2\", \"o3\", \"pm1\", \"pm10\", \"pm25\", \"pressure\",\"so2\", \"temperature\"],\n",
    "    outputCol = \"features\"\n",
    ")\n",
    "kmeans_df = assembler.transform(kmeans_df)"
   ]
  },
  {
   "cell_type": "code",
   "execution_count": 56,
   "metadata": {},
   "outputs": [
    {
     "data": {
      "image/png": "[encoded data removed]",
      "text/plain": [
       "<Figure size 800x400 with 1 Axes>"
      ]
     },
     "metadata": {},
     "output_type": "display_data"
    }
   ],
   "source": [
    "# Calculating elbow method \n",
    "wsss_error = []\n",
    "k_values = list(range(2, 11))\n",
    "\n",
    "for k in k_values:\n",
    "    kmeans = KMeans().setK(k).setSeed(1).setFeaturesCol(\"features\").setPredictionCol(\"cluster\")\n",
    "    model = kmeans.fit(kmeans_df)\n",
    "    wsss_error.append(model.summary.trainingCost)\n",
    "\n",
    "# Plot the Elbow Method\n",
    "plt.figure(figsize=(8, 4))\n",
    "plt.plot(k_values, wsss_error, marker='o')\n",
    "plt.xlabel('Number of K Clusters')\n",
    "plt.ylabel('Within Set Sum of Squared Errors')\n",
    "plt.title('Elbow Method')\n",
    "plt.grid(True)\n",
    "plt.show()"
   ]
  },
  {
   "cell_type": "markdown",
   "metadata": {},
   "source": [
    "#### We can see a slight plateau in error at k = 4, and again at k = 7"
   ]
  },
  {
   "cell_type": "code",
   "execution_count": 57,
   "metadata": {},
   "outputs": [
    {
     "data": {
      "image/png": "[encoded data removed]",
      "text/plain": [
       "<Figure size 800x400 with 1 Axes>"
      ]
     },
     "metadata": {},
     "output_type": "display_data"
    }
   ],
   "source": [
    "from pyspark.ml.evaluation import ClusteringEvaluator\n",
    "\n",
    "# Silhouette Analysis\n",
    "silhouette_scores = []\n",
    "k_values = list(range(2, 11))\n",
    "\n",
    "for k in k_values:\n",
    "    kmeans = KMeans().setK(k).setSeed(1).setFeaturesCol(\"features\").setPredictionCol(\"cluster\")\n",
    "    model = kmeans.fit(kmeans_df)\n",
    "    predictions = model.transform(kmeans_df)\n",
    "    evaluator = ClusteringEvaluator(featuresCol=\"features\", predictionCol=\"cluster\", metricName=\"silhouette\")\n",
    "    silhouette_score = evaluator.evaluate(predictions)\n",
    "    silhouette_scores.append(silhouette_score)\n",
    "\n",
    "# Plot the Silhouette Scores\n",
    "plt.figure(figsize=(8, 4))\n",
    "plt.plot(k_values, silhouette_scores, marker='o')\n",
    "plt.xlabel('Number of K Clusters')\n",
    "plt.ylabel('Silhouette Score')\n",
    "plt.title('Silhouette Analysis for Differing K values')\n",
    "plt.grid(True)\n",
    "plt.show()"
   ]
  },
  {
   "cell_type": "markdown",
   "metadata": {},
   "source": [
    "### With a silhouette score of 1, k = 4 seems like a good option for k"
   ]
  },
  {
   "cell_type": "code",
   "execution_count": 58,
   "metadata": {},
   "outputs": [],
   "source": [
    "# fitting the kmeans model for 7 clusters\n",
    "kmeans = KMeans().setK(4).setSeed(1).setFeaturesCol(\"features\").setPredictionCol(\"cluster\")\n",
    "model = kmeans.fit(kmeans_df)\n",
    "\n",
    "predictions = model.transform(kmeans_df)"
   ]
  },
  {
   "cell_type": "code",
   "execution_count": 59,
   "metadata": {},
   "outputs": [
    {
     "name": "stdout",
     "output_type": "stream",
     "text": [
      "Within Set Sum of Squared Errors (WSSSE) = 152457847.17978883\n"
     ]
    },
    {
     "data": {
      "text/plain": [
       "DataFrame[location_id: bigint, location: string, city: string, state: string, cluster: int]"
      ]
     },
     "execution_count": 59,
     "metadata": {},
     "output_type": "execute_result"
    }
   ],
   "source": [
    "# evaluating model using Within Set Sum of Squared Errors\n",
    "# calculates the sum of the squared euclidian distance of each point in a cluster to it's centroid\n",
    "within_setsum_ofsqured_errors = model.summary.trainingCost\n",
    "print(f\"Within Set Sum of Squared Errors (WSSSE) = {within_setsum_ofsqured_errors}\")\n",
    "predictions.select(\"location_id\", \"location\", \"city\", \"state\", \"cluster\")"
   ]
  },
  {
   "cell_type": "code",
   "execution_count": 60,
   "metadata": {},
   "outputs": [
    {
     "name": "stdout",
     "output_type": "stream",
     "text": [
      "+-----------+-------------------------+----------------+-----------+-------+\n",
      "|location_id|location                 |city            |state      |cluster|\n",
      "+-----------+-------------------------+----------------+-----------+-------+\n",
      "|212        |ROLAND-212               |Roland          |Oklahoma   |0      |\n",
      "|222        |Terre Haute-Lafayett-222 |Terre Haute     |Indiana    |0      |\n",
      "|226        |Elkhart-Prairie St.-226  |Elkhart         |Indiana    |0      |\n",
      "|227        |Kokomo - E. Vaile Av-227 |Kokomo          |Indiana    |0      |\n",
      "|233        |Spokane-E Broadway A-233 |Dishman         |Washington |0      |\n",
      "|234        |Enterprise - US Fore-234 |Enterprise      |Oregon     |0      |\n",
      "|239        |Alamo Lake-239           |Salome          |Arizona    |0      |\n",
      "|240        |Waterbury-931593         |Waterbury       |Connecticut|0      |\n",
      "|242        |POTAWATOMI-242           |Crandon         |Wisconsin  |0      |\n",
      "|1931       |Seminole Community C-1931|Lake Mary       |Florida    |0      |\n",
      "|1933       |Seiling-1933             |Taloga          |Oklahoma   |0      |\n",
      "|1933       |Seiling-1933             |Taloga          |Oklahoma   |0      |\n",
      "|1935       |Sebastopol-1935          |Sebastopol      |California |0      |\n",
      "|1935       |Sebastopol-1935          |Sebastopol      |California |0      |\n",
      "|1935       |Sebastopol-1935          |Sebastopol      |California |0      |\n",
      "|1936       |Seattle-South Park-1936  |White Center    |Washington |0      |\n",
      "|1938       |Seattle-Beacon Hill-1938 |Seattle         |Washington |0      |\n",
      "|1938       |Seattle-Beacon Hill-1938 |Seattle         |Washington |0      |\n",
      "|1940       |Colorado College-1940    |Colorado Springs|Colorado   |0      |\n",
      "|1944       |Fairgrounds-1944         |Columbus        |Ohio       |0      |\n",
      "+-----------+-------------------------+----------------+-----------+-------+\n",
      "only showing top 20 rows\n",
      "\n",
      "cluster 0 has: 329764\n"
     ]
    }
   ],
   "source": [
    "cluster0 = predictions.filter(predictions.cluster == 0)\n",
    "cluster0.select(\"location_id\", \"location\", \"city\", \"state\", \"cluster\").show(truncate=False)\n",
    "print(\"cluster 0 has:\", cluster0.count())"
   ]
  },
  {
   "cell_type": "code",
   "execution_count": 61,
   "metadata": {},
   "outputs": [
    {
     "name": "stdout",
     "output_type": "stream",
     "text": [
      "+-----------+----------------------------------------------------------------+--------------------+----------+-------+\n",
      "|location_id|location                                                        |city                |state     |cluster|\n",
      "+-----------+----------------------------------------------------------------+--------------------+----------+-------+\n",
      "|226357     |Murray Jordan River Parkway Trail powered by UTOPIA Fiber-238653|West Jordan         |Utah      |1      |\n",
      "|234444     |Coeur Rochester Admin Building-246740                           |Lovelock            |Nevada    |1      |\n",
      "|230347     |Top of Ohlone Street-242643                                     |Portola Valley      |California|1      |\n",
      "|232584     |200 Eugene Street-244880                                        |Hood River          |Oregon    |1      |\n",
      "|233509     |1029-245805                                                     |Gardnerville Ranchos|Nevada    |1      |\n",
      "|226357     |Murray Jordan River Parkway Trail powered by UTOPIA Fiber-238653|West Jordan         |Utah      |1      |\n",
      "|233818     |Front-246114                                                    |San Mateo           |California|1      |\n",
      "|233491     |Heatherwood-245787                                              |Saratoga Springs    |Utah      |1      |\n",
      "|226357     |Murray Jordan River Parkway Trail powered by UTOPIA Fiber-238653|West Jordan         |Utah      |1      |\n",
      "|230347     |Top of Ohlone Street-242643                                     |Portola Valley      |California|1      |\n",
      "|234755     |Scenic Drive, La Honda, CA-247051                               |Portola Valley      |California|1      |\n",
      "|233503     |friendly fred-245799                                            |Escalon             |California|1      |\n",
      "|233818     |Front-246114                                                    |San Mateo           |California|1      |\n",
      "|232391     |Chugwater-244687                                                |Wheatland           |Wyoming   |1      |\n",
      "|232584     |200 Eugene Street-244880                                        |Hood River          |Oregon    |1      |\n",
      "|233503     |friendly fred-245799                                            |Escalon             |California|1      |\n",
      "|233818     |Front-246114                                                    |San Mateo           |California|1      |\n",
      "|232565     |Black Mountain Communications NOC-244861                        |Guerneville         |California|1      |\n",
      "|232391     |Chugwater-244687                                                |Wheatland           |Wyoming   |1      |\n",
      "|233491     |Heatherwood-245787                                              |Saratoga Springs    |Utah      |1      |\n",
      "+-----------+----------------------------------------------------------------+--------------------+----------+-------+\n",
      "only showing top 20 rows\n",
      "\n",
      "cluster 1 has: 28\n"
     ]
    }
   ],
   "source": [
    "cluster1 = predictions.filter(predictions.cluster == 1)\n",
    "cluster1.select(\"location_id\", \"location\", \"city\", \"state\", \"cluster\").show(truncate=False)\n",
    "print(\"cluster 1 has:\", cluster1.count())"
   ]
  },
  {
   "cell_type": "code",
   "execution_count": 62,
   "metadata": {},
   "outputs": [
    {
     "name": "stdout",
     "output_type": "stream",
     "text": [
      "+-----------+------------------------------------------------------------+------------------+--------------+-------+\n",
      "|location_id|location                                                    |city              |state         |cluster|\n",
      "+-----------+------------------------------------------------------------+------------------+--------------+-------+\n",
      "|220292     |Clean Air Carolina &amp; ECU - Wellcome Middle School-210602|Greenville        |North Carolina|2      |\n",
      "|222252     |Roundtree-234674                                            |Monte Sereno      |California    |2      |\n",
      "|224743     |HES Front Left Sensor-237039                                |California        |Maryland      |2      |\n",
      "|227559     |MLK-Houston-239855                                          |Chattanooga       |Tennessee     |2      |\n",
      "|227698     |Corcoran-Patterson RAMP PA-239994                           |Corcoran          |California    |2      |\n",
      "|227699     |Turlock RAMP PA-239995                                      |Turlock           |California    |2      |\n",
      "|233284     |Flavel near the GrocOut-245580                              |Lents             |Oregon        |2      |\n",
      "|233886     |Park Road-246182                                            |Emerald Lake Hills|California    |2      |\n",
      "|234755     |Scenic Drive, La Honda, CA-247051                           |Portola Valley    |California    |2      |\n",
      "|234985     |Blackstone EDH-247281                                       |El Dorado Hills   |California    |2      |\n",
      "|220539     |Paramount Cottage Home-217033                               |Indianapolis      |Indiana       |2      |\n",
      "|224497     |CHS Back Sensor-236793                                      |Mechanicsville    |Maryland      |2      |\n",
      "|230590     |Marin Tennis Club-242886                                    |San Rafael        |California    |2      |\n",
      "|232743     |Osmosis-245039                                              |Occidental        |California    |2      |\n",
      "|232763     |SMPA  Adirondack Dr-245059                                  |Redding           |California    |2      |\n",
      "|233167     |Top of the Woodlands-245463                                 |Kentfield         |California    |2      |\n",
      "|233563     |S Fourth St.-245859                                         |Rogers City       |Michigan      |2      |\n",
      "|222548     |Western McMinnville hills-234970                            |McMinnville       |Oregon        |2      |\n",
      "|224271     |Green Valley Oasis-236567                                   |Forestville       |California    |2      |\n",
      "|226258     |exterior-238554                                             |Sunnyvale         |California    |2      |\n",
      "+-----------+------------------------------------------------------------+------------------+--------------+-------+\n",
      "only showing top 20 rows\n",
      "\n",
      "cluster 2 has: 7903\n"
     ]
    }
   ],
   "source": [
    "cluster2 = predictions.filter(predictions.cluster == 2)\n",
    "cluster2.select(\"location_id\", \"location\", \"city\", \"state\", \"cluster\").show(truncate=False)\n",
    "print(\"cluster 2 has:\", cluster2.count())"
   ]
  },
  {
   "cell_type": "code",
   "execution_count": 63,
   "metadata": {},
   "outputs": [
    {
     "name": "stdout",
     "output_type": "stream",
     "text": [
      "+-----------+--------------------------------------------------------------+---------------------+--------------+-------+\n",
      "|location_id|location                                                      |city                 |state         |cluster|\n",
      "+-----------+--------------------------------------------------------------+---------------------+--------------+-------+\n",
      "|2009       |San Francisco-2009                                            |San Francisco        |California    |3      |\n",
      "|2061       |Nipomo Mesa CDF-2061                                          |Callender            |California    |3      |\n",
      "|2142       |Reno3-2142                                                    |Reno                 |Nevada        |3      |\n",
      "|2199       |El Rio - Rio Mesa Sc-2199                                     |Saticoy              |California    |3      |\n",
      "|2203       |El Centro - 9th Stre-2203                                     |El Centro            |California    |3      |\n",
      "|230820     |Merced-M St-243116                                            |Merced               |California    |3      |\n",
      "|231786     |MMNPS1026-244082                                              |Willow Creek         |California    |3      |\n",
      "|232345     |Corcoran-244641                                               |Corcoran             |California    |3      |\n",
      "|2061       |Nipomo Mesa CDF-2061                                          |Callender            |California    |3      |\n",
      "|2061       |Nipomo Mesa CDF-2061                                          |Callender            |California    |3      |\n",
      "|2201       |El Paso UTEP C12-2201                                         |El Paso              |Texas         |3      |\n",
      "|2203       |El Centro - 9th Stre-2203                                     |El Centro            |California    |3      |\n",
      "|2110       |Roosevelt-2110                                                |Roosevelt            |Utah          |3      |\n",
      "|230814     |Bakersfield - Golden-243110                                   |Bakersfield          |California    |3      |\n",
      "|220277     |Clean Air Carolina &amp; ECU - Bethel Elementary School-210587|Bethel               |North Carolina|3      |\n",
      "|223314     |SF-USD-235736                                                 |Crooks               |South Dakota  |3      |\n",
      "|227542     |Walnut Rec.-239838                                            |Sunrise Manor        |Nevada        |3      |\n",
      "|230814     |Bakersfield - Golden-243110                                   |Bakersfield          |California    |3      |\n",
      "|1933       |Seiling-1933                                                  |Taloga               |Oklahoma      |3      |\n",
      "|1948       |Compton-1948                                                  |East Rancho Dominguez|California    |3      |\n",
      "+-----------+--------------------------------------------------------------+---------------------+--------------+-------+\n",
      "only showing top 20 rows\n",
      "\n",
      "cluster 3 has: 6874\n"
     ]
    }
   ],
   "source": [
    "cluster3 = predictions.filter(predictions.cluster == 3)\n",
    "cluster3.select(\"location_id\", \"location\", \"city\", \"state\", \"cluster\").show(truncate=False)\n",
    "print(\"cluster 3 has:\", cluster3.count())"
   ]
  },
  {
   "cell_type": "code",
   "execution_count": 64,
   "metadata": {},
   "outputs": [
    {
     "name": "stdout",
     "output_type": "stream",
     "text": [
      "cluster 0 has: 329764\n",
      "cluster 1 has: 28\n",
      "cluster 2 has: 7903\n",
      "cluster 3 has: 6874\n"
     ]
    }
   ],
   "source": [
    "print(\"cluster 0 has:\", cluster0.count())\n",
    "print(\"cluster 1 has:\", cluster1.count())\n",
    "print(\"cluster 2 has:\", cluster2.count())\n",
    "print(\"cluster 3 has:\", cluster3.count())"
   ]
  },
  {
   "cell_type": "markdown",
   "metadata": {},
   "source": [
    "## Model fitting\n",
    "\n",
    "Our model fits in the underfitting side of the fitting graph. Our linear regression model is on the more simple side, with only one parameter reading vs. timestamp as the input of trying to predict future values. We started off with pm values across many stations, but averaged these across the entire US and across each day as an input to our model, which simplified the model. Unforunately, the values in our dataset only go a couple of years back. Because it is more simple due to these reasons, the model is prone to underfitting and not being as robust as if we had added more time points.\n"
   ]
  },
  {
   "cell_type": "markdown",
   "metadata": {},
   "source": [
    "## Next Models\n",
    "\n",
    "The next models we are thinking of will utilize more of the parameters we have in our dataset. We can apply k-means clustering to obtain clusters of places with similar levels/patterns of pollution based on features. This would be interesting to investigate as we could look into areas of best and worst pollution in the US. We could also run PCA on these parameter features for dimensionality reduction on our dataset as we have many parameters of data to pool from."
   ]
  },
  {
   "cell_type": "markdown",
   "metadata": {},
   "source": [
    "## Conclusions"
   ]
  }
 ],
 "metadata": {
  "kernelspec": {
   "display_name": "Python 3 (ipykernel)",
   "language": "python",
   "name": "python3"
  },
  "language_info": {
   "codemirror_mode": {
    "name": "ipython",
    "version": 3
   },
   "file_extension": ".py",
   "mimetype": "text/x-python",
   "name": "python",
   "nbconvert_exporter": "python",
   "pygments_lexer": "ipython3",
   "version": "3.11.9"
  }
 },
 "nbformat": 4,
 "nbformat_minor": 4
}
