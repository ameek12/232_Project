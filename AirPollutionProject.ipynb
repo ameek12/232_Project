{
 "cells": [
  {
   "cell_type": "markdown",
   "id": "cac50f86-e949-450f-856c-0b672749be78",
   "metadata": {},
   "source": [
    "# Downloading the OpenAQ Air Pollution dataset"
   ]
  },
  {
   "cell_type": "code",
   "execution_count": 1,
   "id": "301d986d-5986-4df0-999c-bbb348d35c71",
   "metadata": {},
   "outputs": [],
   "source": [
    "# Uncomment below to download the Open AQ dataset from Amazon\n",
    "#!pip install awscli\n",
    "#!~/.local/bin/aws s3 cp --no-sign-request s3://openaq-data-archive/records/csv.gz/ dataset --recursive"
   ]
  },
  {
   "cell_type": "markdown",
   "id": "9304b947-d52c-41fb-bcb3-b8431090e0a1",
   "metadata": {},
   "source": [
    "# Now that the download is over, let's do some Air Pollution Data Exploration!"
   ]
  },
  {
   "cell_type": "code",
   "execution_count": 1,
   "id": "b8d2e48b-cac7-4dd6-a569-af548e5773a9",
   "metadata": {},
   "outputs": [],
   "source": [
    "# Importing libraries\n",
    "import numpy as np \n",
    "import pandas as pd \n",
    "import os\n",
    "import sys\n",
    "from pyspark.sql import SparkSession\n",
    "os.environ[\"PYSPARK_PYTHON\"] = sys.executable\n",
    "os.environ[\"PYSPARK_DRIVER_PYTHON\"] = sys.executable\n",
    "\n",
    "from pyspark import SparkContext\n",
    "from pyspark.sql import SparkSession\n",
    "\n",
    "# Creating a SparkContext instance \n",
    "sc = SparkContext()\n",
    "\n",
    "# Creating a spark session\n",
    "spark = SparkSession.builder.appName('232 Project').getOrCreate()"
   ]
  },
  {
   "cell_type": "markdown",
   "id": "1d4d664f-7778-44ff-a04f-432d89d254fd",
   "metadata": {},
   "source": [
    "# Files from AWS were in csv.gz formats. We need to decompress these files to csv files."
   ]
  },
  {
   "cell_type": "code",
   "execution_count": 34,
   "id": "7f8da3b9-2d60-4fa9-bdc3-071083d6ecfd",
   "metadata": {},
   "outputs": [],
   "source": [
    "# Create a folder to put the unzipped csv files\n",
    "#!mkdir -p combined_csv_files"
   ]
  },
  {
   "cell_type": "code",
   "execution_count": 37,
   "id": "d202f1ae-7a0d-43fd-9408-f4f7fcfd26ea",
   "metadata": {},
   "outputs": [],
   "source": [
    "# This will find the .csv.gz files and unzip them then copy that to the folder\n",
    "#!find ../data/ -type f -name \"*.csv\" -exec gunzip -c {} \\; -exec cp {} combined_csv_files/ \\;"
   ]
  },
  {
   "cell_type": "code",
   "execution_count": 4,
   "id": "77aa3c4b-5d32-4c9a-a93e-92155dc0f1cb",
   "metadata": {},
   "outputs": [
    {
     "name": "stdout",
     "output_type": "stream",
     "text": [
      "Current Directory: /expanse/lustre/projects/uci150/ameek1\n"
     ]
    }
   ],
   "source": [
    "# Print the current working directory to get path\n",
    "import os\n",
    "current_directory = os.getcwd()\n",
    "print(\"Current Directory:\", current_directory)"
   ]
  },
  {
   "cell_type": "markdown",
   "id": "961774dc-469e-433c-8c58-22ce9562629e",
   "metadata": {},
   "source": [
    "# Creating a DataFrame from the csv files"
   ]
  },
  {
   "cell_type": "code",
   "execution_count": 3,
   "id": "b5dd2fed-63c6-47e4-a7e5-ed47c6cbface",
   "metadata": {},
   "outputs": [],
   "source": [
    "# This will grab the data someone in the group has already downloaded. \n",
    "path = \"/expanse/lustre/projects/uci150/cmerry/data/records/csv.gz/country=us\"  \n",
    "\n",
    "from pyspark.sql.types import StructType, StructField, IntegerType, StringType, TimestampType, DecimalType\n",
    "\n",
    "schema = StructType([\n",
    "    StructField(\"location_id\", IntegerType(), True),\n",
    "    StructField(\"sensors_id\", IntegerType(), True),\n",
    "    StructField(\"location\", StringType(), True),\n",
    "    StructField(\"datetime\", TimestampType(), True),\n",
    "    StructField(\"lat\", DecimalType(precision=10, scale=6), True),\n",
    "    StructField(\"lon\", DecimalType(precision=10, scale=6), True),\n",
    "    StructField(\"parameter\", StringType(), True),\n",
    "    StructField(\"units\", StringType(), True),\n",
    "    StructField(\"value\", DecimalType(precision=10, scale=6), True),\n",
    "])\n",
    "\n",
    "\n",
    "# Read CSV files matching the pattern into a DataFrame\n",
    "#df = spark.read.format(\"csv\").option(\"header\", \"true\").option(\"inferSchema\", \"true\").load(path)\n",
    "df = spark.read.option(\"recursiveFileLookup\", \"true\").csv(path, header=True, schema=schema)"
   ]
  },
  {
   "cell_type": "markdown",
   "id": "9b0bffcd-2c1e-452f-848a-7bf0c9f32f66",
   "metadata": {},
   "source": [
    "# Pickling the full country=US DataFrame, so we have it later"
   ]
  },
  {
   "cell_type": "code",
   "execution_count": 4,
   "id": "8f03f686-5127-4f63-b705-b5070cd6c5c4",
   "metadata": {},
   "outputs": [],
   "source": [
    "# pickle the df for later \n",
    "import pickle\n",
    "#df.to_pickle(df_pkl)\n",
    "df.rdd.saveAsPickleFile(\"df_pkl_full\")"
   ]
  },
  {
   "cell_type": "code",
   "execution_count": 18,
   "id": "adde9643-1dcf-4845-96d1-5de9dd67ba7a",
   "metadata": {},
   "outputs": [],
   "source": [
    "# Had to move a folder inside the pickle files folder \n",
    "#!mv /expanse/lustre/projects/uci150/ameek1/df_pkl_full/task_202405070347271836706530796072507_0009_m_004934 ./"
   ]
  },
  {
   "cell_type": "markdown",
   "id": "e3778001-a3a8-438f-94d8-bec572fa9d2e",
   "metadata": {},
   "source": [
    "# Unpickling the file and creating a DataFrame"
   ]
  },
  {
   "cell_type": "code",
   "execution_count": 19,
   "id": "4152da0b-474a-4fbf-970d-3716e5240f93",
   "metadata": {},
   "outputs": [],
   "source": [
    "# Loading pickled RDD\n",
    "pickledRDD = spark.sparkContext.pickleFile(\"/expanse/lustre/projects/uci150/ameek1/df_pkl_full\")\n",
    "schema = StructType([\n",
    "    StructField(\"location_id\", IntegerType(), True),\n",
    "    StructField(\"sensors_id\", IntegerType(), True),\n",
    "    StructField(\"location\", StringType(), True),\n",
    "    StructField(\"datetime\", TimestampType(), True),\n",
    "    StructField(\"lat\", DecimalType(precision=10, scale=6), True),\n",
    "    StructField(\"lon\", DecimalType(precision=10, scale=6), True),\n",
    "    StructField(\"parameter\", StringType(), True),\n",
    "    StructField(\"units\", StringType(), True),\n",
    "    StructField(\"value\", DecimalType(precision=10, scale=6), True),\n",
    "])\n",
    "# Converting the RDD to a DataFrame\n",
    "df = spark.createDataFrame(pickledRDD, schema)\n"
   ]
  },
  {
   "cell_type": "code",
   "execution_count": 20,
   "id": "2ac4ec6b-8f95-4996-bbac-2b4e1c1d1e9e",
   "metadata": {},
   "outputs": [
    {
     "name": "stdout",
     "output_type": "stream",
     "text": [
      "+-----------+----------+--------------+-------------------+---------+----------+---------+-----+--------+\n",
      "|location_id|sensors_id|      location|           datetime|      lat|       lon|parameter|units|   value|\n",
      "+-----------+----------+--------------+-------------------+---------+----------+---------+-----+--------+\n",
      "|      10233|     33249|WNVLELSC-10233|2019-09-23 05:00:00|35.507224|-82.963625|       o3|  ppm|0.003000|\n",
      "|      10233|     33249|WNVLELSC-10233|2019-09-23 06:00:00|35.507224|-82.963625|       o3|  ppm|0.002000|\n",
      "|      10233|     33249|WNVLELSC-10233|2019-09-23 07:00:00|35.507224|-82.963625|       o3|  ppm|0.003000|\n",
      "|      10233|     33249|WNVLELSC-10233|2019-09-23 09:00:00|35.507224|-82.963625|       o3|  ppm|0.002000|\n",
      "|      10233|     33249|WNVLELSC-10233|2019-09-23 10:00:00|35.507224|-82.963625|       o3|  ppm|0.003000|\n",
      "|      10233|     33249|WNVLELSC-10233|2019-09-23 11:00:00|35.507224|-82.963625|       o3|  ppm|0.002000|\n",
      "|      10233|     33249|WNVLELSC-10233|2019-09-23 13:00:00|35.507224|-82.963625|       o3|  ppm|0.010000|\n",
      "|      10233|     33249|WNVLELSC-10233|2019-09-23 16:00:00|35.507224|-82.963625|       o3|  ppm|0.043000|\n",
      "|      10233|     33249|WNVLELSC-10233|2019-09-23 17:00:00|35.507224|-82.963625|       o3|  ppm|0.044000|\n",
      "|      10233|     33249|WNVLELSC-10233|2019-09-23 18:00:00|35.507224|-82.963625|       o3|  ppm|0.045000|\n",
      "|      10233|     33249|WNVLELSC-10233|2019-09-23 19:00:00|35.507224|-82.963625|       o3|  ppm|0.044000|\n",
      "|      10233|     33249|WNVLELSC-10233|2019-09-23 20:00:00|35.507224|-82.963625|       o3|  ppm|0.041000|\n",
      "|      10233|     33249|WNVLELSC-10233|2019-09-23 21:00:00|35.507224|-82.963625|       o3|  ppm|0.040000|\n",
      "|      10233|     33249|WNVLELSC-10233|2019-09-23 22:00:00|35.507224|-82.963625|       o3|  ppm|0.037000|\n",
      "|      10233|     33249|WNVLELSC-10233|2019-09-23 23:00:00|35.507224|-82.963625|       o3|  ppm|0.029000|\n",
      "|      10233|     33249|WNVLELSC-10233|2019-09-24 00:00:00|35.507224|-82.963625|       o3|  ppm|0.023000|\n",
      "|      10233|     33249|WNVLELSC-10233|2019-09-24 01:00:00|35.507224|-82.963625|       o3|  ppm|0.020000|\n",
      "|      10233|     33249|WNVLELSC-10233|2019-09-24 02:00:00|35.507224|-82.963625|       o3|  ppm|0.016000|\n",
      "|      10233|     33249|WNVLELSC-10233|2019-09-24 03:00:00|35.507224|-82.963625|       o3|  ppm|0.012000|\n",
      "|      10233|     33249|WNVLELSC-10233|2019-09-24 04:00:00|35.507224|-82.963625|       o3|  ppm|0.011000|\n",
      "+-----------+----------+--------------+-------------------+---------+----------+---------+-----+--------+\n",
      "only showing top 20 rows\n",
      "\n"
     ]
    }
   ],
   "source": [
    "# Showing a portion of the dataframe \n",
    "df.show()"
   ]
  },
  {
   "cell_type": "code",
   "execution_count": 21,
   "id": "9f832eb5-22aa-4687-b43e-022b2ee0ca6a",
   "metadata": {},
   "outputs": [
    {
     "data": {
      "text/plain": [
       "26541241"
      ]
     },
     "execution_count": 21,
     "metadata": {},
     "output_type": "execute_result"
    }
   ],
   "source": [
    "# Counting the number of rows/observations\n",
    "df.count()"
   ]
  },
  {
   "cell_type": "markdown",
   "id": "07bf388d-ec7a-4f42-93ba-fed60fba9183",
   "metadata": {},
   "source": [
    "## Transforming the datetime col ie splitting the 'datetime' column into date and time and then dropping the 'datetime' column"
   ]
  },
  {
   "cell_type": "code",
   "execution_count": 22,
   "id": "5b30d41d-4625-496d-919e-741fad2491c3",
   "metadata": {},
   "outputs": [
    {
     "name": "stdout",
     "output_type": "stream",
     "text": [
      "+-----------+----------+--------------+-------------------+---------+----------+---------+-----+--------+----------+--------+\n",
      "|location_id|sensors_id|      location|           datetime|      lat|       lon|parameter|units|   value|      date|    time|\n",
      "+-----------+----------+--------------+-------------------+---------+----------+---------+-----+--------+----------+--------+\n",
      "|      10233|     33249|WNVLELSC-10233|2019-09-23 05:00:00|35.507224|-82.963625|       o3|  ppm|0.003000|2019-09-23|05:00:00|\n",
      "|      10233|     33249|WNVLELSC-10233|2019-09-23 06:00:00|35.507224|-82.963625|       o3|  ppm|0.002000|2019-09-23|06:00:00|\n",
      "|      10233|     33249|WNVLELSC-10233|2019-09-23 07:00:00|35.507224|-82.963625|       o3|  ppm|0.003000|2019-09-23|07:00:00|\n",
      "|      10233|     33249|WNVLELSC-10233|2019-09-23 09:00:00|35.507224|-82.963625|       o3|  ppm|0.002000|2019-09-23|09:00:00|\n",
      "|      10233|     33249|WNVLELSC-10233|2019-09-23 10:00:00|35.507224|-82.963625|       o3|  ppm|0.003000|2019-09-23|10:00:00|\n",
      "|      10233|     33249|WNVLELSC-10233|2019-09-23 11:00:00|35.507224|-82.963625|       o3|  ppm|0.002000|2019-09-23|11:00:00|\n",
      "|      10233|     33249|WNVLELSC-10233|2019-09-23 13:00:00|35.507224|-82.963625|       o3|  ppm|0.010000|2019-09-23|13:00:00|\n",
      "|      10233|     33249|WNVLELSC-10233|2019-09-23 16:00:00|35.507224|-82.963625|       o3|  ppm|0.043000|2019-09-23|16:00:00|\n",
      "|      10233|     33249|WNVLELSC-10233|2019-09-23 17:00:00|35.507224|-82.963625|       o3|  ppm|0.044000|2019-09-23|17:00:00|\n",
      "|      10233|     33249|WNVLELSC-10233|2019-09-23 18:00:00|35.507224|-82.963625|       o3|  ppm|0.045000|2019-09-23|18:00:00|\n",
      "|      10233|     33249|WNVLELSC-10233|2019-09-23 19:00:00|35.507224|-82.963625|       o3|  ppm|0.044000|2019-09-23|19:00:00|\n",
      "|      10233|     33249|WNVLELSC-10233|2019-09-23 20:00:00|35.507224|-82.963625|       o3|  ppm|0.041000|2019-09-23|20:00:00|\n",
      "|      10233|     33249|WNVLELSC-10233|2019-09-23 21:00:00|35.507224|-82.963625|       o3|  ppm|0.040000|2019-09-23|21:00:00|\n",
      "|      10233|     33249|WNVLELSC-10233|2019-09-23 22:00:00|35.507224|-82.963625|       o3|  ppm|0.037000|2019-09-23|22:00:00|\n",
      "|      10233|     33249|WNVLELSC-10233|2019-09-23 23:00:00|35.507224|-82.963625|       o3|  ppm|0.029000|2019-09-23|23:00:00|\n",
      "|      10233|     33249|WNVLELSC-10233|2019-09-24 00:00:00|35.507224|-82.963625|       o3|  ppm|0.023000|2019-09-24|00:00:00|\n",
      "|      10233|     33249|WNVLELSC-10233|2019-09-24 01:00:00|35.507224|-82.963625|       o3|  ppm|0.020000|2019-09-24|01:00:00|\n",
      "|      10233|     33249|WNVLELSC-10233|2019-09-24 02:00:00|35.507224|-82.963625|       o3|  ppm|0.016000|2019-09-24|02:00:00|\n",
      "|      10233|     33249|WNVLELSC-10233|2019-09-24 03:00:00|35.507224|-82.963625|       o3|  ppm|0.012000|2019-09-24|03:00:00|\n",
      "|      10233|     33249|WNVLELSC-10233|2019-09-24 04:00:00|35.507224|-82.963625|       o3|  ppm|0.011000|2019-09-24|04:00:00|\n",
      "+-----------+----------+--------------+-------------------+---------+----------+---------+-----+--------+----------+--------+\n",
      "only showing top 20 rows\n",
      "\n"
     ]
    }
   ],
   "source": [
    "from pyspark.sql.functions import unix_timestamp, from_unixtime, date_format, col\n",
    "df = df.withColumn('date', date_format(col('datetime'), 'yyyy-MM-dd')) \\\n",
    "       .withColumn('time', date_format(col('datetime'), 'HH:mm:ss'))\n",
    "df.show()"
   ]
  },
  {
   "cell_type": "code",
   "execution_count": 10,
   "id": "b8c91f9a-39a8-421c-b6c1-230f94a5b8e9",
   "metadata": {},
   "outputs": [
    {
     "data": {
      "text/plain": [
       "['location_id',\n",
       " 'sensors_id',\n",
       " 'location',\n",
       " 'datetime',\n",
       " 'lat',\n",
       " 'lon',\n",
       " 'parameter',\n",
       " 'units',\n",
       " 'value',\n",
       " 'date',\n",
       " 'time']"
      ]
     },
     "execution_count": 10,
     "metadata": {},
     "output_type": "execute_result"
    }
   ],
   "source": [
    "# Looking at the column features\n",
    "df.columns"
   ]
  },
  {
   "cell_type": "code",
   "execution_count": 11,
   "id": "409822e8-b218-4646-93d9-c8b8da224acb",
   "metadata": {},
   "outputs": [
    {
     "name": "stdout",
     "output_type": "stream",
     "text": [
      "root\n",
      " |-- location_id: integer (nullable = true)\n",
      " |-- sensors_id: integer (nullable = true)\n",
      " |-- location: string (nullable = true)\n",
      " |-- datetime: timestamp (nullable = true)\n",
      " |-- lat: decimal(10,6) (nullable = true)\n",
      " |-- lon: decimal(10,6) (nullable = true)\n",
      " |-- parameter: string (nullable = true)\n",
      " |-- units: string (nullable = true)\n",
      " |-- value: decimal(10,6) (nullable = true)\n",
      " |-- date: string (nullable = true)\n",
      " |-- time: string (nullable = true)\n",
      "\n"
     ]
    }
   ],
   "source": [
    "# Printing the schema which was specified above \n",
    "df.printSchema()"
   ]
  },
  {
   "cell_type": "markdown",
   "id": "6f27ebcb-bf3d-4316-a5b5-291b8a3374ad",
   "metadata": {},
   "source": [
    "## Checking for nulls"
   ]
  },
  {
   "cell_type": "code",
   "execution_count": 23,
   "id": "3b0422ae-3cec-4123-9bed-ee9de8c7e3c1",
   "metadata": {},
   "outputs": [
    {
     "name": "stdout",
     "output_type": "stream",
     "text": [
      "+-----------+----------+--------+--------+---+------+---------+------+------+----+----+\n",
      "|location_id|sensors_id|location|datetime|lat|   lon|parameter| units| value|date|time|\n",
      "+-----------+----------+--------+--------+---+------+---------+------+------+----+----+\n",
      "|          0|         0|       0|       0|  0|166867|        0|166867|166867|   0|   0|\n",
      "+-----------+----------+--------+--------+---+------+---------+------+------+----+----+\n",
      "\n"
     ]
    }
   ],
   "source": [
    "# Are there any null values? \n",
    "from pyspark.sql.functions import isnan, when, count, col\n",
    "\n",
    "df.select(*(count(when(col(c).isNull(), c)).alias(c) for c in df.columns)).show()"
   ]
  },
  {
   "cell_type": "markdown",
   "id": "a1b457d5-4396-45e3-8132-d36189bf91c3",
   "metadata": {},
   "source": [
    "### As seen above here are null values in the longitude, units, and value. The fact that null values were present for units and values may indicate that the sensory was not working. "
   ]
  },
  {
   "cell_type": "code",
   "execution_count": 25,
   "id": "555306d3-0293-44d9-b652-73a1ea99b79a",
   "metadata": {},
   "outputs": [
    {
     "name": "stdout",
     "output_type": "stream",
     "text": [
      "+-----------+----------+-------------+-------------------+---------+----+---------+-----+-----+----------+--------+\n",
      "|location_id|sensors_id|     location|           datetime|      lat| lon|parameter|units|value|      date|    time|\n",
      "+-----------+----------+-------------+-------------------+---------+----+---------+-----+-----+----------+--------+\n",
      "|       1210|      2169|Geronimo-1210|2016-03-12 08:00:00|32.250000|NULL|-110.9667| NULL| NULL|2016-03-12|08:00:00|\n",
      "|       1210|      2169|Geronimo-1210|2016-03-12 09:00:00|32.250000|NULL|-110.9667| NULL| NULL|2016-03-12|09:00:00|\n",
      "|       1210|      2169|Geronimo-1210|2016-03-12 10:00:00|32.250000|NULL|-110.9667| NULL| NULL|2016-03-12|10:00:00|\n",
      "|       1210|      2169|Geronimo-1210|2016-03-12 11:00:00|32.250000|NULL|-110.9667| NULL| NULL|2016-03-12|11:00:00|\n",
      "|       1210|      2169|Geronimo-1210|2016-03-12 12:00:00|32.250000|NULL|-110.9667| NULL| NULL|2016-03-12|12:00:00|\n",
      "|       1210|      2169|Geronimo-1210|2016-03-12 13:00:00|32.250000|NULL|-110.9667| NULL| NULL|2016-03-12|13:00:00|\n",
      "|       1210|      2169|Geronimo-1210|2016-03-12 14:00:00|32.250000|NULL|-110.9667| NULL| NULL|2016-03-12|14:00:00|\n",
      "|       1210|      2169|Geronimo-1210|2016-03-12 15:00:00|32.250000|NULL|-110.9667| NULL| NULL|2016-03-12|15:00:00|\n",
      "|       1210|      2169|Geronimo-1210|2016-03-12 16:00:00|32.250000|NULL|-110.9667| NULL| NULL|2016-03-12|16:00:00|\n",
      "|       1210|      2169|Geronimo-1210|2016-03-12 17:00:00|32.250000|NULL|-110.9667| NULL| NULL|2016-03-12|17:00:00|\n",
      "|       1210|      2169|Geronimo-1210|2016-03-12 18:00:00|32.250000|NULL|-110.9667| NULL| NULL|2016-03-12|18:00:00|\n",
      "|       1210|      2169|Geronimo-1210|2016-03-12 19:00:00|32.250000|NULL|-110.9667| NULL| NULL|2016-03-12|19:00:00|\n",
      "|       1210|      2169|Geronimo-1210|2016-03-12 20:00:00|32.250000|NULL|-110.9667| NULL| NULL|2016-03-12|20:00:00|\n",
      "|       1210|      2169|Geronimo-1210|2016-03-12 21:00:00|32.250000|NULL|-110.9667| NULL| NULL|2016-03-12|21:00:00|\n",
      "|       1210|      2169|Geronimo-1210|2016-03-12 22:00:00|32.250000|NULL|-110.9667| NULL| NULL|2016-03-12|22:00:00|\n",
      "|       1210|      2169|Geronimo-1210|2016-03-12 23:00:00|32.250000|NULL|-110.9667| NULL| NULL|2016-03-12|23:00:00|\n",
      "|       1210|      2169|Geronimo-1210|2016-03-13 00:00:00|32.250000|NULL|-110.9667| NULL| NULL|2016-03-13|00:00:00|\n",
      "|       1210|      2169|Geronimo-1210|2016-03-13 01:00:00|32.250000|NULL|-110.9667| NULL| NULL|2016-03-13|01:00:00|\n",
      "|       1210|      2169|Geronimo-1210|2016-03-13 02:00:00|32.250000|NULL|-110.9667| NULL| NULL|2016-03-13|02:00:00|\n",
      "|       1210|      2169|Geronimo-1210|2016-03-13 03:00:00|32.250000|NULL|-110.9667| NULL| NULL|2016-03-13|03:00:00|\n",
      "+-----------+----------+-------------+-------------------+---------+----+---------+-----+-----+----------+--------+\n",
      "only showing top 20 rows\n",
      "\n"
     ]
    }
   ],
   "source": [
    "# Looking at the dataframe of nulls \n",
    "from pyspark.sql.functions import col\n",
    "# Create a condition to filter rows that contain at least one null value\n",
    "condition = ' or '.join([f\"{column_name} IS NULL\" for column_name in df.columns])\n",
    "\n",
    "# Filter the DataFrame\n",
    "null_data_df = df.filter(condition)\n",
    "\n",
    "# Show the result\n",
    "null_data_df.show()"
   ]
  },
  {
   "cell_type": "markdown",
   "id": "39029e68-39d0-47ef-a931-04c389dc78bf",
   "metadata": {},
   "source": [
    "The above shows that in most cases the three likely occur together. "
   ]
  },
  {
   "cell_type": "code",
   "execution_count": 29,
   "id": "cc4ebdee-76bc-4f01-9ede-6dac9a25995d",
   "metadata": {},
   "outputs": [
    {
     "name": "stdout",
     "output_type": "stream",
     "text": [
      "+-----------+----------+--------------+-------------------+---------+----------+---------+-----+--------+----------+--------+\n",
      "|location_id|sensors_id|      location|           datetime|      lat|       lon|parameter|units|   value|      date|    time|\n",
      "+-----------+----------+--------------+-------------------+---------+----------+---------+-----+--------+----------+--------+\n",
      "|      10233|     33249|WNVLELSC-10233|2019-09-23 05:00:00|35.507224|-82.963625|       o3|  ppm|0.003000|2019-09-23|05:00:00|\n",
      "|      10233|     33249|WNVLELSC-10233|2019-09-23 06:00:00|35.507224|-82.963625|       o3|  ppm|0.002000|2019-09-23|06:00:00|\n",
      "|      10233|     33249|WNVLELSC-10233|2019-09-23 07:00:00|35.507224|-82.963625|       o3|  ppm|0.003000|2019-09-23|07:00:00|\n",
      "|      10233|     33249|WNVLELSC-10233|2019-09-23 09:00:00|35.507224|-82.963625|       o3|  ppm|0.002000|2019-09-23|09:00:00|\n",
      "|      10233|     33249|WNVLELSC-10233|2019-09-23 10:00:00|35.507224|-82.963625|       o3|  ppm|0.003000|2019-09-23|10:00:00|\n",
      "|      10233|     33249|WNVLELSC-10233|2019-09-23 11:00:00|35.507224|-82.963625|       o3|  ppm|0.002000|2019-09-23|11:00:00|\n",
      "|      10233|     33249|WNVLELSC-10233|2019-09-23 13:00:00|35.507224|-82.963625|       o3|  ppm|0.010000|2019-09-23|13:00:00|\n",
      "|      10233|     33249|WNVLELSC-10233|2019-09-23 16:00:00|35.507224|-82.963625|       o3|  ppm|0.043000|2019-09-23|16:00:00|\n",
      "|      10233|     33249|WNVLELSC-10233|2019-09-23 17:00:00|35.507224|-82.963625|       o3|  ppm|0.044000|2019-09-23|17:00:00|\n",
      "|      10233|     33249|WNVLELSC-10233|2019-09-23 18:00:00|35.507224|-82.963625|       o3|  ppm|0.045000|2019-09-23|18:00:00|\n",
      "|      10233|     33249|WNVLELSC-10233|2019-09-23 19:00:00|35.507224|-82.963625|       o3|  ppm|0.044000|2019-09-23|19:00:00|\n",
      "|      10233|     33249|WNVLELSC-10233|2019-09-23 20:00:00|35.507224|-82.963625|       o3|  ppm|0.041000|2019-09-23|20:00:00|\n",
      "|      10233|     33249|WNVLELSC-10233|2019-09-23 21:00:00|35.507224|-82.963625|       o3|  ppm|0.040000|2019-09-23|21:00:00|\n",
      "|      10233|     33249|WNVLELSC-10233|2019-09-23 22:00:00|35.507224|-82.963625|       o3|  ppm|0.037000|2019-09-23|22:00:00|\n",
      "|      10233|     33249|WNVLELSC-10233|2019-09-23 23:00:00|35.507224|-82.963625|       o3|  ppm|0.029000|2019-09-23|23:00:00|\n",
      "|      10233|     33249|WNVLELSC-10233|2019-09-24 00:00:00|35.507224|-82.963625|       o3|  ppm|0.023000|2019-09-24|00:00:00|\n",
      "|      10233|     33249|WNVLELSC-10233|2019-09-24 01:00:00|35.507224|-82.963625|       o3|  ppm|0.020000|2019-09-24|01:00:00|\n",
      "|      10233|     33249|WNVLELSC-10233|2019-09-24 02:00:00|35.507224|-82.963625|       o3|  ppm|0.016000|2019-09-24|02:00:00|\n",
      "|      10233|     33249|WNVLELSC-10233|2019-09-24 03:00:00|35.507224|-82.963625|       o3|  ppm|0.012000|2019-09-24|03:00:00|\n",
      "|      10233|     33249|WNVLELSC-10233|2019-09-24 04:00:00|35.507224|-82.963625|       o3|  ppm|0.011000|2019-09-24|04:00:00|\n",
      "+-----------+----------+--------------+-------------------+---------+----------+---------+-----+--------+----------+--------+\n",
      "only showing top 20 rows\n",
      "\n"
     ]
    }
   ],
   "source": [
    "df = df.na.drop(\"any\")\n",
    "df.show()"
   ]
  },
  {
   "cell_type": "markdown",
   "id": "73c79849-8e98-4182-814c-b929c99e0082",
   "metadata": {},
   "source": [
    "# Checking for values below zero"
   ]
  },
  {
   "cell_type": "code",
   "execution_count": 30,
   "id": "f04d4be1-5ca7-44d8-8307-c81baa30e1d1",
   "metadata": {},
   "outputs": [
    {
     "data": {
      "text/plain": [
       "225772"
      ]
     },
     "execution_count": 30,
     "metadata": {},
     "output_type": "execute_result"
    }
   ],
   "source": [
    "# Seeing if there are any rows where the value of the sensor measurement is below zero \n",
    "import pyspark.sql.functions as func\n",
    "\n",
    "df.filter(func.col(\"value\") < 0).count()"
   ]
  },
  {
   "cell_type": "code",
   "execution_count": 31,
   "id": "c161c62d-cc0d-41cf-b23b-502655275f2e",
   "metadata": {},
   "outputs": [
    {
     "name": "stdout",
     "output_type": "stream",
     "text": [
      "+-----------+----------+--------------------+-------------------+---------+-----------+---------+-----+---------+----------+--------+\n",
      "|location_id|sensors_id|            location|           datetime|      lat|        lon|parameter|units|    value|      date|    time|\n",
      "+-----------+----------+--------------------+-------------------+---------+-----------+---------+-----+---------+----------+--------+\n",
      "|       1039|     25482| Pinal Air Park-1039|2019-02-06 20:00:00|32.508308|-111.308060|     pm10|µg/m³|-2.000000|2019-02-06|20:00:00|\n",
      "|       1039|     25482| Pinal Air Park-1039|2019-03-12 21:00:00|32.508308|-111.308060|     pm10|µg/m³|-1.000000|2019-03-12|21:00:00|\n",
      "|       1504|      2655|    Belle Glade-1504|2016-07-26 18:00:00|26.724167| -80.663055|     pm25|µg/m³|-2.100000|2016-07-26|18:00:00|\n",
      "|       1504|      2655|    Belle Glade-1504|2016-07-26 19:00:00|26.724167| -80.663055|     pm25|µg/m³|-4.900000|2016-07-26|19:00:00|\n",
      "|       1504|      2655|    Belle Glade-1504|2016-07-26 20:00:00|26.724167| -80.663055|     pm25|µg/m³|-0.300000|2016-07-26|20:00:00|\n",
      "|       1504|      2655|    Belle Glade-1504|2016-07-26 21:00:00|26.724167| -80.663055|     pm25|µg/m³|-1.300000|2016-07-26|21:00:00|\n",
      "|       1504|      2655|    Belle Glade-1504|2016-07-27 00:00:00|26.724167| -80.663055|     pm25|µg/m³|-0.500000|2016-07-27|00:00:00|\n",
      "|       1504|      2655|    Belle Glade-1504|2016-07-17 09:00:00|26.724167| -80.663055|     pm25|µg/m³|-3.600000|2016-07-17|09:00:00|\n",
      "|       1504|      2655|    Belle Glade-1504|2016-07-17 10:00:00|26.724167| -80.663055|     pm25|µg/m³|-0.500000|2016-07-17|10:00:00|\n",
      "|       1504|      2655|    Belle Glade-1504|2016-07-17 17:00:00|26.724167| -80.663055|     pm25|µg/m³|-3.400000|2016-07-17|17:00:00|\n",
      "|       1504|      2655|    Belle Glade-1504|2016-07-17 18:00:00|26.724167| -80.663055|     pm25|µg/m³|-1.500000|2016-07-17|18:00:00|\n",
      "|       1504|      2655|    Belle Glade-1504|2016-07-17 22:00:00|26.724167| -80.663055|     pm25|µg/m³|-0.600000|2016-07-17|22:00:00|\n",
      "|       1504|      2655|    Belle Glade-1504|2018-05-04 09:00:00|26.724167| -80.663055|     pm25|µg/m³|-3.000000|2018-05-04|09:00:00|\n",
      "|       1504|      2655|    Belle Glade-1504|2018-05-04 13:00:00|26.724167| -80.663055|     pm25|µg/m³|-2.100000|2018-05-04|13:00:00|\n",
      "|       1414|      2525|        BRAIDWD-1414|2020-08-12 20:00:00|41.222200| -88.190600|     pm25|µg/m³|-1.300000|2020-08-12|20:00:00|\n",
      "|       1208|      2166|Gilory - 9th Stre...|2020-11-04 04:00:00|36.999571|-121.574684|     pm25|µg/m³|-1.000000|2020-11-04|04:00:00|\n",
      "|       1208|      2166|Gilory - 9th Stre...|2020-11-04 05:00:00|36.999571|-121.574684|     pm25|µg/m³|-2.000000|2020-11-04|05:00:00|\n",
      "|       1208|      2166|Gilory - 9th Stre...|2020-11-04 06:00:00|36.999571|-121.574684|     pm25|µg/m³|-2.000000|2020-11-04|06:00:00|\n",
      "|       1159|      2082|Greenville C1006/...|2022-10-21 11:00:00|33.153077| -96.115561|       o3|  ppm|-0.001000|2022-10-21|11:00:00|\n",
      "|       1159|      2082|Greenville C1006/...|2022-10-21 12:00:00|33.153077| -96.115561|       o3|  ppm|-0.001000|2022-10-21|12:00:00|\n",
      "+-----------+----------+--------------------+-------------------+---------+-----------+---------+-----+---------+----------+--------+\n",
      "only showing top 20 rows\n",
      "\n"
     ]
    }
   ],
   "source": [
    "# Look at the dataframe of where the value is less than 0.\n",
    "# Filter the DataFrame\n",
    "value_less_0_df = df.filter(col(\"value\") < 0)\n",
    "value_less_0_df.show()"
   ]
  },
  {
   "cell_type": "markdown",
   "id": "f9aef168-d83e-4890-8705-5118a2b4b335",
   "metadata": {},
   "source": [
    "## The value of a particular parameter should not be zero. Since these measurements are measures of mass in a given volume of air, the concept of negative mass wouldn't make sense and therefore the readings form the sensor should not be negative. This indicates there could be sensor malfunctions, ie. software or calibration errors."
   ]
  },
  {
   "cell_type": "code",
   "execution_count": 32,
   "id": "5322b7ae-a23f-424d-9fb9-008c7680b89f",
   "metadata": {},
   "outputs": [],
   "source": [
    "# Filtering to keep all rows with 'value' greater than zero. \n",
    "df = df.filter(col(\"value\") > 0)"
   ]
  },
  {
   "cell_type": "code",
   "execution_count": 33,
   "id": "be91f6ae-f245-415d-b0d6-05f3465830da",
   "metadata": {},
   "outputs": [],
   "source": [
    "# Saving as a pickle file for later\n",
    "df.rdd.saveAsPickleFile(\"df_pkl_parsed\")"
   ]
  },
  {
   "cell_type": "code",
   "execution_count": null,
   "id": "4e990283-9723-4fbf-b005-43eb8ea47539",
   "metadata": {},
   "outputs": [],
   "source": [
    "# Loading the parsed pickled RDD\n",
    "pickledRDD = spark.sparkContext.pickleFile(\"/expanse/lustre/projects/uci150/ameek1/df_pkl_parsed\")\n",
    "schema = StructType([\n",
    "    StructField(\"location_id\", IntegerType(), True),\n",
    "    StructField(\"sensors_id\", IntegerType(), True),\n",
    "    StructField(\"location\", StringType(), True),\n",
    "    StructField(\"datetime\", TimestampType(), True),\n",
    "    StructField(\"lat\", DecimalType(precision=10, scale=6), True),\n",
    "    StructField(\"lon\", DecimalType(precision=10, scale=6), True),\n",
    "    StructField(\"parameter\", StringType(), True),\n",
    "    StructField(\"units\", StringType(), True),\n",
    "    StructField(\"value\", DecimalType(precision=10, scale=6), True),\n",
    "])\n",
    "# Converting the RDD to a DataFrame\n",
    "df = spark.createDataFrame(pickledRDD, schema)"
   ]
  },
  {
   "cell_type": "markdown",
   "id": "032ad19f-3ad1-4863-a5a8-79a59f5d6542",
   "metadata": {},
   "source": [
    "# Graphing some data (a few samples)"
   ]
  },
  {
   "cell_type": "code",
   "execution_count": 47,
   "id": "e6caa7b2-8f79-4cb0-8e4b-b6d86b8b0527",
   "metadata": {},
   "outputs": [],
   "source": [
    "# Filtering for sensor 1803 and parameter 'pm10'\n",
    "filtered_df = df.filter((df.sensors_id == 1803) & (df.parameter == \"pm10\")).orderBy(\"datetime\")"
   ]
  },
  {
   "cell_type": "code",
   "execution_count": 49,
   "id": "b37509cb-c752-48d3-9bac-1de91e14a08e",
   "metadata": {},
   "outputs": [],
   "source": [
    "# Selecting datetime and value for the graph\n",
    "pm10_data = filtered_df.select(\"datetime\", \"value\").collect()"
   ]
  },
  {
   "cell_type": "code",
   "execution_count": 50,
   "id": "d4962d83-b900-4d82-b2c0-344d72bf3db4",
   "metadata": {},
   "outputs": [
    {
     "data": {
      "image/png": "[encoded data removed]",
      "text/plain": [
       "<Figure size 1000x500 with 1 Axes>"
      ]
     },
     "metadata": {},
     "output_type": "display_data"
    }
   ],
   "source": [
    "import matplotlib.pyplot as plt\n",
    "\n",
    "# Extracting separate lists of dates and values and plotting it\n",
    "dates = [data.datetime for data in pm10_data]\n",
    "values = [data.value for data in pm10_data]\n",
    "plt.figure(figsize=(10, 5))\n",
    "plt.plot(dates, values, marker='o', linestyle='-', color='b')\n",
    "plt.title(\"PM10 Levels Over Time for Sensor 1803 at Location 1000\")\n",
    "plt.xlabel(\"Datetime\")\n",
    "plt.ylabel(\"PM10 Value (µg/m³)\")\n",
    "plt.grid(True)\n",
    "plt.xticks(rotation=45)\n",
    "plt.tight_layout()  \n",
    "plt.show()"
   ]
  },
  {
   "cell_type": "markdown",
   "id": "fc73e922-56f3-4d66-8738-7fa21ab46a36",
   "metadata": {},
   "source": [
    "From 2016 to 2023, we can see that the largest amounts of pollution for PM10 occurred at the beginning or end of the year. "
   ]
  },
  {
   "cell_type": "markdown",
   "id": "764f2f01-2075-49e1-bdac-2ca1bb3d9881",
   "metadata": {},
   "source": [
    "### Let's look at the averages of PM10 levels for Sensor 1803"
   ]
  },
  {
   "cell_type": "code",
   "execution_count": 51,
   "id": "64d7c761-92d2-4c6b-9ecb-2ab2ed241f65",
   "metadata": {},
   "outputs": [
    {
     "data": {
      "image/png": "[encoded data removed]",
      "text/plain": [
       "<Figure size 1200x600 with 1 Axes>"
      ]
     },
     "metadata": {},
     "output_type": "display_data"
    }
   ],
   "source": [
    "from pyspark.sql.functions import year, month, to_timestamp, avg\n",
    "# Filtered the DF\n",
    "filtered_df = df.filter((df.sensors_id == 1803) & (df.parameter == \"pm10\"))\n",
    "#filtered_df = filtered_df.withColumn('datetime', to_timestamp('datetime', 'yyyy-MM-dd HH:mm:ss'))\n",
    "# Add year and month columns for grouping\n",
    "filtered_df = filtered_df.withColumn('year', year('datetime'))\n",
    "filtered_df = filtered_df.withColumn('month', month('datetime'))\n",
    "# Group by year and month, and calculate average values\n",
    "monthly_avg_data = filtered_df.groupBy('year', 'month').agg(\n",
    "    avg('value').alias('avg_value')\n",
    ").orderBy('year', 'month')\n",
    "monthly_avg_data = monthly_avg_data.collect()\n",
    "import matplotlib.pyplot as plt\n",
    "import matplotlib.dates as mdates\n",
    "from datetime import datetime\n",
    "plt.figure(figsize=(12, 6)) \n",
    "dates = [datetime(year=row['year'], month=row['month'], day=1) for row in monthly_avg_data]\n",
    "values = [row['avg_value'] for row in monthly_avg_data]\n",
    "plt.plot(dates, values, marker='o', linestyle='-', color='b')\n",
    "plt.title(\"Average Monthly PM10 Levels for Sensor 1803\")\n",
    "plt.xlabel(\"Date\")\n",
    "plt.ylabel(\"Average PM10 Value (µg/m³)\")\n",
    "plt.grid(True)\n",
    "\n",
    "plt.gca().xaxis.set_major_locator(mdates.YearLocator())\n",
    "plt.gca().xaxis.set_major_formatter(mdates.DateFormatter('%Y-%m'))\n",
    "plt.gcf().autofmt_xdate() \n",
    "\n",
    "plt.tight_layout()\n",
    "plt.show()"
   ]
  },
  {
   "cell_type": "markdown",
   "id": "d9eeffb1-e227-4546-8f13-e9c0a4ec5425",
   "metadata": {},
   "source": [
    "# Looking at data with PySpark SQL"
   ]
  },
  {
   "cell_type": "code",
   "execution_count": 45,
   "id": "90be0a68-a442-45fb-aade-c08ae2c5ae41",
   "metadata": {},
   "outputs": [],
   "source": [
    "# Creating a temporary table to use with PySpark SQL\n",
    "df.createOrReplaceTempView('pollution')"
   ]
  },
  {
   "cell_type": "code",
   "execution_count": 52,
   "id": "437eccde-7a31-4e06-93bd-590f35b174e7",
   "metadata": {},
   "outputs": [
    {
     "name": "stdout",
     "output_type": "stream",
     "text": [
      "+---------------+\n",
      "|Parameter_Count|\n",
      "+---------------+\n",
      "|              9|\n",
      "+---------------+\n",
      "\n"
     ]
    }
   ],
   "source": [
    "# Looking at the different number of parameters in the dataset\n",
    "results = spark.sql(\"SELECT count(distinct parameter) as Parameter_Count \\\n",
    "                    FROM pollution\")\n",
    "results.show()"
   ]
  },
  {
   "cell_type": "code",
   "execution_count": 54,
   "id": "84f7a753-9fad-4736-b1c4-89a9c7e00452",
   "metadata": {},
   "outputs": [
    {
     "name": "stdout",
     "output_type": "stream",
     "text": [
      "+-----------+----------+------------+\n",
      "|location_id|sensors_id|Sensor_Count|\n",
      "+-----------+----------+------------+\n",
      "|       1000|      1803|       36050|\n",
      "|       1000|      1802|       30973|\n",
      "|       1001|      1804|       20391|\n",
      "|       1002|      1805|       26916|\n",
      "|       1003|      1807|       36070|\n",
      "|       1003|      1806|       26673|\n",
      "|       1005|      1810|        7626|\n",
      "|       1006|      1811|       28892|\n",
      "|       1006|      1812|       21378|\n",
      "|       1006|      1813|       41336|\n",
      "|       1008|      1817|       33523|\n",
      "|       1008|   2888356|        1169|\n",
      "|       1009|      1818|       36226|\n",
      "|       1010|      1834|       40699|\n",
      "|       1010|      1821|       42431|\n",
      "|       1010|      1819|       40721|\n",
      "|       1010|     25511|        4936|\n",
      "|       1011|      1822|        4607|\n",
      "|       1011|      1820|        4745|\n",
      "|       1012|      1823|       20130|\n",
      "+-----------+----------+------------+\n",
      "only showing top 20 rows\n",
      "\n"
     ]
    }
   ],
   "source": [
    "# Looking at the sensor counts for each location. \n",
    "results = spark.sql(\"SELECT location_id, sensors_id, count(sensors_id) as Sensor_Count \\\n",
    "                    FROM pollution \\\n",
    "                    GROUP BY location_id, sensors_id \\\n",
    "                    ORDER BY location_id\")\n",
    "results.show()"
   ]
  },
  {
   "cell_type": "code",
   "execution_count": 60,
   "id": "2d268271-f476-41a1-bea0-85a2b5dcaf2b",
   "metadata": {},
   "outputs": [
    {
     "name": "stdout",
     "output_type": "stream",
     "text": [
      "+-----------+---------+----------+\n",
      "|location_id|parameter|sensors_id|\n",
      "+-----------+---------+----------+\n",
      "|       1109|       o3|      1987|\n",
      "|       1074|       o3|      1926|\n",
      "|       1503|     pm25|      2653|\n",
      "|       1023|     pm10|      1846|\n",
      "|       1054|       o3|      1891|\n",
      "|       1459|     pm25|      2586|\n",
      "|       1110|     pm25|      1989|\n",
      "|       1538|     pm25|      2706|\n",
      "|       1075|       o3|      1927|\n",
      "|       1079|     pm25|      1932|\n",
      "|       1097|     pm25|      5543|\n",
      "|       1375|       co|      2465|\n",
      "|       1122|      so2|      2018|\n",
      "|       1354|     pm25|      2428|\n",
      "|       1169|       o3|      2099|\n",
      "|       1354|      so2|      2431|\n",
      "|       1451|     pm25|      2574|\n",
      "|       1479|       o3|      2619|\n",
      "|       1515|       o3|      2673|\n",
      "|       1080|       o3|      1933|\n",
      "+-----------+---------+----------+\n",
      "only showing top 20 rows\n",
      "\n"
     ]
    }
   ],
   "source": [
    "# Looking at the different number of parameters in the dataset\n",
    "results = spark.sql(\"SELECT DISTINCT location_id, parameter, sensors_id\\\n",
    "                    FROM pollution\")\n",
    "results.show()"
   ]
  },
  {
   "cell_type": "markdown",
   "id": "8d353c60-99fa-4492-9b87-66dabb63b9eb",
   "metadata": {},
   "source": [
    "# WHO air quality guidelines recommend a maximum exposure of 20 µg/m3 for PM10, 35 µg/m3 for PM2.5, and 0.070 parts per million for O3\n",
    "\n",
    "## Find the data in the maximum polluted thresholds"
   ]
  },
  {
   "cell_type": "code",
   "execution_count": 62,
   "id": "974096a7-52fa-49c0-9d17-ab4de5f629eb",
   "metadata": {},
   "outputs": [
    {
     "name": "stdout",
     "output_type": "stream",
     "text": [
      "+-----------+----------+--------------------+-------------------+---------+----------+---------+-----+---------+----------+--------+----+-----+\n",
      "|location_id|sensors_id|            location|           datetime|      lat|       lon|parameter|units|    value|      date|    time|year|month|\n",
      "+-----------+----------+--------------------+-------------------+---------+----------+---------+-----+---------+----------+--------+----+-----+\n",
      "|       1362|      2441|YMCA - Marion Cou...|2021-08-24 05:00:00|29.170799|-82.100800|     pm25|µg/m³|13.100000|2021-08-24|05:00:00|2021|    8|\n",
      "|       1362|      2441|YMCA - Marion Cou...|2021-08-24 06:00:00|29.170799|-82.100800|     pm25|µg/m³|14.300000|2021-08-24|06:00:00|2021|    8|\n",
      "|       1362|      2441|YMCA - Marion Cou...|2021-08-24 07:00:00|29.170799|-82.100800|     pm25|µg/m³|15.100000|2021-08-24|07:00:00|2021|    8|\n",
      "|       1362|      2441|YMCA - Marion Cou...|2021-08-24 08:00:00|29.170799|-82.100800|     pm25|µg/m³|12.900000|2021-08-24|08:00:00|2021|    8|\n",
      "|       1362|      2441|YMCA - Marion Cou...|2021-08-24 09:00:00|29.170799|-82.100800|     pm25|µg/m³|16.400000|2021-08-24|09:00:00|2021|    8|\n",
      "|       1362|      2441|YMCA - Marion Cou...|2021-08-24 10:00:00|29.170799|-82.100800|     pm25|µg/m³|18.700000|2021-08-24|10:00:00|2021|    8|\n",
      "|       1362|      2441|YMCA - Marion Cou...|2021-08-24 11:00:00|29.170799|-82.100800|     pm25|µg/m³|22.000000|2021-08-24|11:00:00|2021|    8|\n",
      "|       1362|      2441|YMCA - Marion Cou...|2021-08-24 12:00:00|29.170799|-82.100800|     pm25|µg/m³|33.900000|2021-08-24|12:00:00|2021|    8|\n",
      "|       1362|      2441|YMCA - Marion Cou...|2021-08-24 13:00:00|29.170799|-82.100800|     pm25|µg/m³|28.500000|2021-08-24|13:00:00|2021|    8|\n",
      "|       1362|      2441|YMCA - Marion Cou...|2021-08-24 14:00:00|29.170799|-82.100800|     pm25|µg/m³|17.200000|2021-08-24|14:00:00|2021|    8|\n",
      "|       1362|      2441|YMCA - Marion Cou...|2021-08-24 15:00:00|29.170799|-82.100800|     pm25|µg/m³|13.300000|2021-08-24|15:00:00|2021|    8|\n",
      "|       1362|      2441|YMCA - Marion Cou...|2021-08-24 17:00:00|29.170799|-82.100800|     pm25|µg/m³|20.900000|2021-08-24|17:00:00|2021|    8|\n",
      "|       1362|      2441|YMCA - Marion Cou...|2021-08-24 18:00:00|29.170799|-82.100800|     pm25|µg/m³|24.800000|2021-08-24|18:00:00|2021|    8|\n",
      "|       1362|      2441|YMCA - Marion Cou...|2021-08-24 19:00:00|29.170799|-82.100800|     pm25|µg/m³|33.400000|2021-08-24|19:00:00|2021|    8|\n",
      "|       1362|      2441|YMCA - Marion Cou...|2021-08-24 20:00:00|29.170799|-82.100800|     pm25|µg/m³|16.600000|2021-08-24|20:00:00|2021|    8|\n",
      "|       1362|      2441|YMCA - Marion Cou...|2021-08-24 22:00:00|29.170799|-82.100800|     pm25|µg/m³|14.400000|2021-08-24|22:00:00|2021|    8|\n",
      "|       1362|      2441|YMCA - Marion Cou...|2021-08-24 23:00:00|29.170799|-82.100800|     pm25|µg/m³|17.700000|2021-08-24|23:00:00|2021|    8|\n",
      "|       1362|      2441|YMCA - Marion Cou...|2021-08-25 00:00:00|29.170799|-82.100800|     pm25|µg/m³|17.400000|2021-08-25|00:00:00|2021|    8|\n",
      "|       1362|      2441|YMCA - Marion Cou...|2021-08-25 01:00:00|29.170799|-82.100800|     pm25|µg/m³|20.700000|2021-08-25|01:00:00|2021|    8|\n",
      "|       1362|      2441|YMCA - Marion Cou...|2021-08-25 02:00:00|29.170799|-82.100800|     pm25|µg/m³|19.700000|2021-08-25|02:00:00|2021|    8|\n",
      "+-----------+----------+--------------------+-------------------+---------+----------+---------+-----+---------+----------+--------+----+-----+\n",
      "only showing top 20 rows\n",
      "\n"
     ]
    }
   ],
   "source": [
    "## Find the data in the polluted thresholds\n",
    "results = spark.sql(\"SELECT * \\\n",
    "                    FROM pollution \\\n",
    "                    WHERE (parameter = 'pm10' AND value > 150) OR (parameter = 'pm25' AND value > 12) OR (parameter = 'o3' AND value > 0.07)\")\n",
    "results.show()\n",
    "# Could gather insights about what the most polluted areas are "
   ]
  },
  {
   "cell_type": "markdown",
   "id": "f0833aab-4075-4d38-a1ff-215f88f74414",
   "metadata": {},
   "source": [
    "### As we can see this occurs the same day around the same time period - ie. morning to midday "
   ]
  },
  {
   "cell_type": "markdown",
   "id": "02457cc1-8828-4e43-a62e-81b7d1b55c75",
   "metadata": {},
   "source": [
    "## Average Value per measurement for each year for each location"
   ]
  },
  {
   "cell_type": "code",
   "execution_count": 63,
   "id": "1828ccfc-abc7-401d-8685-d29d3b0c8035",
   "metadata": {},
   "outputs": [
    {
     "name": "stdout",
     "output_type": "stream",
     "text": [
      "+-----------+----------+----------+---------+------------+\n",
      "|location_id|sensors_id|      date|parameter|   avg_value|\n",
      "+-----------+----------+----------+---------+------------+\n",
      "|       1109|      1987|2019-06-11|       o3|0.0251304348|\n",
      "|       1109|      1987|2017-08-25|       o3|0.0218095238|\n",
      "|       1109|      1987|2019-01-08|       o3|0.0176363636|\n",
      "|      10233|     33249|2020-04-20|       o3|0.0419523810|\n",
      "|      10233|     33249|2022-03-14|       o3|0.0300000000|\n",
      "|      10233|     33249|2022-03-21|       o3|0.0270000000|\n",
      "|       1109|      1987|2017-06-30|       o3|0.0489047619|\n",
      "|       1109|      1987|2017-02-19|       o3|0.0375000000|\n",
      "|       1166|      2095|2022-12-15|       o3|0.0339583333|\n",
      "|       1092|      1959|2017-02-02|       o3|0.0300000000|\n",
      "|       1039|     25482|2020-01-23|     pm10|5.2500000000|\n",
      "|       1092|      1959|2017-01-24|       o3|0.0260416667|\n",
      "|       1092|      1958|2017-05-29|      no2|0.0027916667|\n",
      "|       1039|     25482|2019-02-18|     pm10|7.0000000000|\n",
      "|       1092|      1958|2017-06-18|      no2|0.0022857143|\n",
      "|       1166|     22045|2022-12-03|       co|0.1833333333|\n",
      "|       1166|     22045|2022-11-24|       co|0.1041666667|\n",
      "|       1039|      1869|2022-12-31|       o3|0.0174500000|\n",
      "|       1166|     22045|2022-12-17|       co|0.2791666667|\n",
      "|       1039|      1869|2019-02-06|       o3|0.0399166667|\n",
      "+-----------+----------+----------+---------+------------+\n",
      "only showing top 20 rows\n",
      "\n"
     ]
    }
   ],
   "source": [
    "results = spark.sql(\"SELECT location_id, sensors_id, date, parameter, AVG(value) AS avg_value\\\n",
    "                    FROM pollution\\\n",
    "                    GROUP BY parameter, sensors_id, date, location_id\")\n",
    "results.show()"
   ]
  }
 ],
 "metadata": {
  "kernelspec": {
   "display_name": "Python 3 (ipykernel)",
   "language": "python",
   "name": "python3"
  },
  "language_info": {
   "codemirror_mode": {
    "name": "ipython",
    "version": 3
   },
   "file_extension": ".py",
   "mimetype": "text/x-python",
   "name": "python",
   "nbconvert_exporter": "python",
   "pygments_lexer": "ipython3",
   "version": "3.11.6"
  }
 },
 "nbformat": 4,
 "nbformat_minor": 5
}
