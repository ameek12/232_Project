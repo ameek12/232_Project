{
 "cells": [
  {
   "cell_type": "markdown",
   "id": "792bb169-db52-47f6-a9bf-e27bd9de58ef",
   "metadata": {},
   "source": [
    "# __Milestone 1: Abstract/Dataset__"
   ]
  },
  {
   "cell_type": "markdown",
   "id": "71046d19-a3f9-469f-8394-c364993f382f",
   "metadata": {},
   "source": [
    "# __Milestone 2: Data Preprocessing (Data Exploration)__\n"
   ]
  },
  {
   "cell_type": "markdown",
   "id": "b2543f29-b908-48dc-aa9b-22d62eea15ed",
   "metadata": {},
   "source": [
    "# __Milestone 3: Normalizing Data, Nulls, one hot encoding__"
   ]
  },
  {
   "cell_type": "markdown",
   "id": "0b9e30af-5442-44da-b3c4-0950a4212e15",
   "metadata": {},
   "source": [
    "# __Milestone 4: Develop and Deploy Machine Learning Models__"
   ]
  },
  {
   "cell_type": "markdown",
   "id": "9ecb846a-b51b-4f23-81ec-670a9196d67f",
   "metadata": {},
   "source": [
    "# __Milestone 5: Model Evaluations ie Results and Conclusions__ "
   ]
  }
 ],
 "metadata": {
  "kernelspec": {
   "display_name": "Python 3 (ipykernel)",
   "language": "python",
   "name": "python3"
  },
  "language_info": {
   "codemirror_mode": {
    "name": "ipython",
    "version": 3
   },
   "file_extension": ".py",
   "mimetype": "text/x-python",
   "name": "python",
   "nbconvert_exporter": "python",
   "pygments_lexer": "ipython3",
   "version": "3.10.9"
  }
 },
 "nbformat": 4,
 "nbformat_minor": 5
}
